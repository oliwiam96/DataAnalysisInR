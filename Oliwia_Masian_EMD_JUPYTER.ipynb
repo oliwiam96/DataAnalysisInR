{
 "cells": [
  {
   "cell_type": "markdown",
   "metadata": {},
   "source": [
    "# Projekt z analizy danych\n",
    "## Oliwia Masian 127324 grupa wtorki 16:50"
   ]
  },
  {
   "cell_type": "markdown",
   "metadata": {},
   "source": [
    "Celem analizy jest odkrycie przyczyn zmniejszania się rozmiaru śledzia europejskiego."
   ]
  },
  {
   "cell_type": "markdown",
   "metadata": {},
   "source": [
    "## 1. Kod wyliczający wykorzystane biblioteki."
   ]
  },
  {
   "cell_type": "code",
   "execution_count": 108,
   "metadata": {},
   "outputs": [],
   "source": [
    "library(dplyr)\n",
    "library(ggplot2)\n",
    "library(reshape2)\n",
    "library(caret)"
   ]
  },
  {
   "cell_type": "markdown",
   "metadata": {},
   "source": [
    "## 2. Kod zapewniający powtarzalność wyników przy każdym uruchomieniu raportu na tych samych danych."
   ]
  },
  {
   "cell_type": "code",
   "execution_count": 109,
   "metadata": {},
   "outputs": [],
   "source": [
    "set.seed(42)"
   ]
  },
  {
   "cell_type": "markdown",
   "metadata": {},
   "source": [
    "## 3. Kod pozwalający wczytać dane z pliku."
   ]
  },
  {
   "cell_type": "markdown",
   "metadata": {},
   "source": [
    "Na przestrzeni ostatnich lat zauważono stopniowy spadek rozmiaru śledzia oceanicznego wyławianego w Europie. Do analizy zebrano pomiary śledzi i warunków w jakich żyją z ostatnich 60 lat. Dane były pobierane z połowów komercyjnych jednostek. W ramach połowu jednej jednostki losowo wybierano od 50 do 100 sztuk trzyletnich śledzi.\n",
    "\n",
    "Kolejne kolumny w zbiorze danych to:\n",
    "\n",
    "    length: długość złowionego śledzia [cm];\n",
    "    cfin1: dostępność planktonu [zagęszczenie Calanus finmarchicus gat. 1];\n",
    "    cfin2: dostępność planktonu [zagęszczenie Calanus finmarchicus gat. 2];\n",
    "    chel1: dostępność planktonu [zagęszczenie Calanus helgolandicus gat. 1];\n",
    "    chel2: dostępność planktonu [zagęszczenie Calanus helgolandicus gat. 2];\n",
    "    lcop1: dostępność planktonu [zagęszczenie widłonogów gat. 1];\n",
    "    lcop2: dostępność planktonu [zagęszczenie widłonogów gat. 2];\n",
    "    fbar: natężenie połowów w regionie [ułamek pozostawionego narybku];\n",
    "    recr: roczny narybek [liczba śledzi];\n",
    "    cumf: łączne roczne natężenie połowów w regionie [ułamek pozostawionego narybku];\n",
    "    totaln: łączna liczba ryb złowionych w ramach połowu [liczba śledzi];\n",
    "    sst: temperatura przy powierzchni wody [°C];\n",
    "    sal: poziom zasolenia wody [Knudsen ppt];\n",
    "    xmonth: miesiąc połowu [numer miesiąca];\n",
    "    nao: oscylacja północnoatlantycka [mb].\n",
    "\n",
    "Wiersze w zbiorze są uporządkowane chronologicznie.\n",
    "\n",
    "Wczytajmy dane do zmiennej all_data"
   ]
  },
  {
   "cell_type": "code",
   "execution_count": 110,
   "metadata": {},
   "outputs": [
    {
     "data": {
      "text/html": [
       "<table>\n",
       "<thead><tr><th scope=col>X</th><th scope=col>length</th><th scope=col>cfin1</th><th scope=col>cfin2</th><th scope=col>chel1</th><th scope=col>chel2</th><th scope=col>lcop1</th><th scope=col>lcop2</th><th scope=col>fbar</th><th scope=col>recr</th><th scope=col>cumf</th><th scope=col>totaln</th><th scope=col>sst</th><th scope=col>sal</th><th scope=col>xmonth</th><th scope=col>nao</th></tr></thead>\n",
       "<tbody>\n",
       "\t<tr><td>0        </td><td>23.0     </td><td>0.02778  </td><td>0.27785  </td><td>2.46875  </td><td>      NA </td><td>2.54787  </td><td>26.35881 </td><td>0.356    </td><td>482831   </td><td>0.3059879</td><td>267380.8 </td><td>14.30693 </td><td>35.51234 </td><td>7        </td><td>2.8      </td></tr>\n",
       "\t<tr><td>1        </td><td>22.5     </td><td>0.02778  </td><td>0.27785  </td><td>2.46875  </td><td>21.43548 </td><td>2.54787  </td><td>26.35881 </td><td>0.356    </td><td>482831   </td><td>0.3059879</td><td>267380.8 </td><td>14.30693 </td><td>35.51234 </td><td>7        </td><td>2.8      </td></tr>\n",
       "\t<tr><td>2        </td><td>25.0     </td><td>0.02778  </td><td>0.27785  </td><td>2.46875  </td><td>21.43548 </td><td>2.54787  </td><td>26.35881 </td><td>0.356    </td><td>482831   </td><td>0.3059879</td><td>267380.8 </td><td>14.30693 </td><td>35.51234 </td><td>7        </td><td>2.8      </td></tr>\n",
       "\t<tr><td>3        </td><td>25.5     </td><td>0.02778  </td><td>0.27785  </td><td>2.46875  </td><td>21.43548 </td><td>2.54787  </td><td>26.35881 </td><td>0.356    </td><td>482831   </td><td>0.3059879</td><td>267380.8 </td><td>14.30693 </td><td>35.51234 </td><td>7        </td><td>2.8      </td></tr>\n",
       "\t<tr><td>4        </td><td>24.0     </td><td>0.02778  </td><td>0.27785  </td><td>2.46875  </td><td>21.43548 </td><td>2.54787  </td><td>26.35881 </td><td>0.356    </td><td>482831   </td><td>0.3059879</td><td>267380.8 </td><td>14.30693 </td><td>35.51234 </td><td>7        </td><td>2.8      </td></tr>\n",
       "\t<tr><td>5        </td><td>22.0     </td><td>0.02778  </td><td>0.27785  </td><td>2.46875  </td><td>21.43548 </td><td>2.54787  </td><td>      NA </td><td>0.356    </td><td>482831   </td><td>0.3059879</td><td>267380.8 </td><td>14.30693 </td><td>35.51234 </td><td>7        </td><td>2.8      </td></tr>\n",
       "</tbody>\n",
       "</table>\n"
      ],
      "text/latex": [
       "\\begin{tabular}{r|llllllllllllllll}\n",
       " X & length & cfin1 & cfin2 & chel1 & chel2 & lcop1 & lcop2 & fbar & recr & cumf & totaln & sst & sal & xmonth & nao\\\\\n",
       "\\hline\n",
       "\t 0         & 23.0      & 0.02778   & 0.27785   & 2.46875   &       NA  & 2.54787   & 26.35881  & 0.356     & 482831    & 0.3059879 & 267380.8  & 14.30693  & 35.51234  & 7         & 2.8      \\\\\n",
       "\t 1         & 22.5      & 0.02778   & 0.27785   & 2.46875   & 21.43548  & 2.54787   & 26.35881  & 0.356     & 482831    & 0.3059879 & 267380.8  & 14.30693  & 35.51234  & 7         & 2.8      \\\\\n",
       "\t 2         & 25.0      & 0.02778   & 0.27785   & 2.46875   & 21.43548  & 2.54787   & 26.35881  & 0.356     & 482831    & 0.3059879 & 267380.8  & 14.30693  & 35.51234  & 7         & 2.8      \\\\\n",
       "\t 3         & 25.5      & 0.02778   & 0.27785   & 2.46875   & 21.43548  & 2.54787   & 26.35881  & 0.356     & 482831    & 0.3059879 & 267380.8  & 14.30693  & 35.51234  & 7         & 2.8      \\\\\n",
       "\t 4         & 24.0      & 0.02778   & 0.27785   & 2.46875   & 21.43548  & 2.54787   & 26.35881  & 0.356     & 482831    & 0.3059879 & 267380.8  & 14.30693  & 35.51234  & 7         & 2.8      \\\\\n",
       "\t 5         & 22.0      & 0.02778   & 0.27785   & 2.46875   & 21.43548  & 2.54787   &       NA  & 0.356     & 482831    & 0.3059879 & 267380.8  & 14.30693  & 35.51234  & 7         & 2.8      \\\\\n",
       "\\end{tabular}\n"
      ],
      "text/markdown": [
       "\n",
       "| X | length | cfin1 | cfin2 | chel1 | chel2 | lcop1 | lcop2 | fbar | recr | cumf | totaln | sst | sal | xmonth | nao |\n",
       "|---|---|---|---|---|---|---|---|---|---|---|---|---|---|---|---|\n",
       "| 0         | 23.0      | 0.02778   | 0.27785   | 2.46875   |       NA  | 2.54787   | 26.35881  | 0.356     | 482831    | 0.3059879 | 267380.8  | 14.30693  | 35.51234  | 7         | 2.8       |\n",
       "| 1         | 22.5      | 0.02778   | 0.27785   | 2.46875   | 21.43548  | 2.54787   | 26.35881  | 0.356     | 482831    | 0.3059879 | 267380.8  | 14.30693  | 35.51234  | 7         | 2.8       |\n",
       "| 2         | 25.0      | 0.02778   | 0.27785   | 2.46875   | 21.43548  | 2.54787   | 26.35881  | 0.356     | 482831    | 0.3059879 | 267380.8  | 14.30693  | 35.51234  | 7         | 2.8       |\n",
       "| 3         | 25.5      | 0.02778   | 0.27785   | 2.46875   | 21.43548  | 2.54787   | 26.35881  | 0.356     | 482831    | 0.3059879 | 267380.8  | 14.30693  | 35.51234  | 7         | 2.8       |\n",
       "| 4         | 24.0      | 0.02778   | 0.27785   | 2.46875   | 21.43548  | 2.54787   | 26.35881  | 0.356     | 482831    | 0.3059879 | 267380.8  | 14.30693  | 35.51234  | 7         | 2.8       |\n",
       "| 5         | 22.0      | 0.02778   | 0.27785   | 2.46875   | 21.43548  | 2.54787   |       NA  | 0.356     | 482831    | 0.3059879 | 267380.8  | 14.30693  | 35.51234  | 7         | 2.8       |\n",
       "\n"
      ],
      "text/plain": [
       "  X length cfin1   cfin2   chel1   chel2    lcop1   lcop2    fbar  recr  \n",
       "1 0 23.0   0.02778 0.27785 2.46875       NA 2.54787 26.35881 0.356 482831\n",
       "2 1 22.5   0.02778 0.27785 2.46875 21.43548 2.54787 26.35881 0.356 482831\n",
       "3 2 25.0   0.02778 0.27785 2.46875 21.43548 2.54787 26.35881 0.356 482831\n",
       "4 3 25.5   0.02778 0.27785 2.46875 21.43548 2.54787 26.35881 0.356 482831\n",
       "5 4 24.0   0.02778 0.27785 2.46875 21.43548 2.54787 26.35881 0.356 482831\n",
       "6 5 22.0   0.02778 0.27785 2.46875 21.43548 2.54787       NA 0.356 482831\n",
       "  cumf      totaln   sst      sal      xmonth nao\n",
       "1 0.3059879 267380.8 14.30693 35.51234 7      2.8\n",
       "2 0.3059879 267380.8 14.30693 35.51234 7      2.8\n",
       "3 0.3059879 267380.8 14.30693 35.51234 7      2.8\n",
       "4 0.3059879 267380.8 14.30693 35.51234 7      2.8\n",
       "5 0.3059879 267380.8 14.30693 35.51234 7      2.8\n",
       "6 0.3059879 267380.8 14.30693 35.51234 7      2.8"
      ]
     },
     "metadata": {},
     "output_type": "display_data"
    }
   ],
   "source": [
    "all_data <- read.csv(\"sledzie.csv\", na.string=\"?\")\n",
    "head(all_data)"
   ]
  },
  {
   "cell_type": "code",
   "execution_count": 111,
   "metadata": {},
   "outputs": [
    {
     "data": {
      "text/html": [
       "<dl class=dl-horizontal>\n",
       "\t<dt>X</dt>\n",
       "\t\t<dd>'integer'</dd>\n",
       "\t<dt>length</dt>\n",
       "\t\t<dd>'numeric'</dd>\n",
       "\t<dt>cfin1</dt>\n",
       "\t\t<dd>'numeric'</dd>\n",
       "\t<dt>cfin2</dt>\n",
       "\t\t<dd>'numeric'</dd>\n",
       "\t<dt>chel1</dt>\n",
       "\t\t<dd>'numeric'</dd>\n",
       "\t<dt>chel2</dt>\n",
       "\t\t<dd>'numeric'</dd>\n",
       "\t<dt>lcop1</dt>\n",
       "\t\t<dd>'numeric'</dd>\n",
       "\t<dt>lcop2</dt>\n",
       "\t\t<dd>'numeric'</dd>\n",
       "\t<dt>fbar</dt>\n",
       "\t\t<dd>'numeric'</dd>\n",
       "\t<dt>recr</dt>\n",
       "\t\t<dd>'integer'</dd>\n",
       "\t<dt>cumf</dt>\n",
       "\t\t<dd>'numeric'</dd>\n",
       "\t<dt>totaln</dt>\n",
       "\t\t<dd>'numeric'</dd>\n",
       "\t<dt>sst</dt>\n",
       "\t\t<dd>'numeric'</dd>\n",
       "\t<dt>sal</dt>\n",
       "\t\t<dd>'numeric'</dd>\n",
       "\t<dt>xmonth</dt>\n",
       "\t\t<dd>'integer'</dd>\n",
       "\t<dt>nao</dt>\n",
       "\t\t<dd>'numeric'</dd>\n",
       "</dl>\n"
      ],
      "text/latex": [
       "\\begin{description*}\n",
       "\\item[X] 'integer'\n",
       "\\item[length] 'numeric'\n",
       "\\item[cfin1] 'numeric'\n",
       "\\item[cfin2] 'numeric'\n",
       "\\item[chel1] 'numeric'\n",
       "\\item[chel2] 'numeric'\n",
       "\\item[lcop1] 'numeric'\n",
       "\\item[lcop2] 'numeric'\n",
       "\\item[fbar] 'numeric'\n",
       "\\item[recr] 'integer'\n",
       "\\item[cumf] 'numeric'\n",
       "\\item[totaln] 'numeric'\n",
       "\\item[sst] 'numeric'\n",
       "\\item[sal] 'numeric'\n",
       "\\item[xmonth] 'integer'\n",
       "\\item[nao] 'numeric'\n",
       "\\end{description*}\n"
      ],
      "text/markdown": [
       "X\n",
       ":   'integer'length\n",
       ":   'numeric'cfin1\n",
       ":   'numeric'cfin2\n",
       ":   'numeric'chel1\n",
       ":   'numeric'chel2\n",
       ":   'numeric'lcop1\n",
       ":   'numeric'lcop2\n",
       ":   'numeric'fbar\n",
       ":   'numeric'recr\n",
       ":   'integer'cumf\n",
       ":   'numeric'totaln\n",
       ":   'numeric'sst\n",
       ":   'numeric'sal\n",
       ":   'numeric'xmonth\n",
       ":   'integer'nao\n",
       ":   'numeric'\n",
       "\n"
      ],
      "text/plain": [
       "        X    length     cfin1     cfin2     chel1     chel2     lcop1     lcop2 \n",
       "\"integer\" \"numeric\" \"numeric\" \"numeric\" \"numeric\" \"numeric\" \"numeric\" \"numeric\" \n",
       "     fbar      recr      cumf    totaln       sst       sal    xmonth       nao \n",
       "\"numeric\" \"integer\" \"numeric\" \"numeric\" \"numeric\" \"numeric\" \"integer\" \"numeric\" "
      ]
     },
     "metadata": {},
     "output_type": "display_data"
    }
   ],
   "source": [
    "sapply(all_data, class)"
   ]
  },
  {
   "cell_type": "markdown",
   "metadata": {},
   "source": [
    "Widzimy brakujące wartości (NA). Zgodnie z oczekiwaniami wszystkie kolumny zostały potraktowane jako liczby."
   ]
  },
  {
   "cell_type": "markdown",
   "metadata": {},
   "source": [
    "## 4. Kod przetwarzający brakujące dane."
   ]
  },
  {
   "cell_type": "markdown",
   "metadata": {},
   "source": [
    "Spróbujmy usunąć te wiersze, które zawierają puste wartości."
   ]
  },
  {
   "cell_type": "code",
   "execution_count": 112,
   "metadata": {},
   "outputs": [
    {
     "name": "stdout",
     "output_type": "stream",
     "text": [
      "[1] 42488\n",
      "[1] 52582\n",
      "[1] 0.8080332\n"
     ]
    }
   ],
   "source": [
    "complete_indexes <- complete.cases(all_data)\n",
    "data_complete <- all_data[complete_indexes, ]\n",
    "print(nrow(data_complete))\n",
    "print(nrow(all_data))\n",
    "print(nrow(data_complete)/nrow(all_data))"
   ]
  },
  {
   "cell_type": "markdown",
   "metadata": {},
   "source": [
    "Brakujące dane to aż 20% (ponad 10 000 rekordów). Szkoda marnować zawarty w nich potencjał. Uzupełnijmy je średnią, wcześniej tylko upewnijmy się, że rozkłady nie są zbyt skośne (odpowiadające średnie i mediany nie leżą zbyt daleko od siebie)."
   ]
  },
  {
   "cell_type": "code",
   "execution_count": 113,
   "metadata": {},
   "outputs": [
    {
     "name": "stdout",
     "output_type": "stream",
     "text": [
      "mean:  26290.5 median:  26290.5 \n",
      "mean:  25.30436 median:  25.5 \n",
      "mean:  0.445828 median:  0.11111 \n",
      "mean:  2.024818 median:  0.70118 \n",
      "mean:  10.00566 median:  5.75 \n",
      "mean:  21.22108 median:  21.67333 \n",
      "mean:  12.81081 median:  7 \n",
      "mean:  28.41883 median:  24.85867 \n",
      "mean:  0.3303509 median:  0.332 \n",
      "mean:  520366.5 median:  421391 \n",
      "mean:  0.2298095 median:  0.2319097 \n",
      "mean:  514972.9 median:  539558.4 \n",
      "mean:  13.87466 median:  13.85867 \n",
      "mean:  35.5098 median:  35.51234 \n",
      "mean:  7.25756 median:  8 \n",
      "mean:  -0.09236012 median:  0.2 \n"
     ]
    }
   ],
   "source": [
    "for(i in 1:ncol(all_data)){\n",
    "    cat(\"mean: \", mean(all_data[,i], na.rm = TRUE), \"median: \", median(all_data[,i], na.rm = TRUE), \"\\n\")\n",
    "}"
   ]
  },
  {
   "cell_type": "code",
   "execution_count": 114,
   "metadata": {},
   "outputs": [],
   "source": [
    "data <- all_data\n",
    "for(i in 1:ncol(data)){\n",
    "    data[is.na(data[,i]), i] <- median(data[,i], na.rm = TRUE)\n",
    "}"
   ]
  },
  {
   "cell_type": "markdown",
   "metadata": {},
   "source": [
    "Sprawdźmy wynik transformacji."
   ]
  },
  {
   "cell_type": "code",
   "execution_count": 115,
   "metadata": {},
   "outputs": [
    {
     "data": {
      "text/html": [
       "<table>\n",
       "<thead><tr><th scope=col>X</th><th scope=col>length</th><th scope=col>cfin1</th><th scope=col>cfin2</th><th scope=col>chel1</th><th scope=col>chel2</th><th scope=col>lcop1</th><th scope=col>lcop2</th><th scope=col>fbar</th><th scope=col>recr</th><th scope=col>cumf</th><th scope=col>totaln</th><th scope=col>sst</th><th scope=col>sal</th><th scope=col>xmonth</th><th scope=col>nao</th></tr></thead>\n",
       "<tbody>\n",
       "\t<tr><td>0        </td><td>23.0     </td><td>0.02778  </td><td>0.27785  </td><td>2.46875  </td><td>21.67333 </td><td>2.54787  </td><td>26.35881 </td><td>0.356    </td><td>482831   </td><td>0.3059879</td><td>267380.8 </td><td>14.30693 </td><td>35.51234 </td><td>7        </td><td>2.8      </td></tr>\n",
       "\t<tr><td>1        </td><td>22.5     </td><td>0.02778  </td><td>0.27785  </td><td>2.46875  </td><td>21.43548 </td><td>2.54787  </td><td>26.35881 </td><td>0.356    </td><td>482831   </td><td>0.3059879</td><td>267380.8 </td><td>14.30693 </td><td>35.51234 </td><td>7        </td><td>2.8      </td></tr>\n",
       "\t<tr><td>2        </td><td>25.0     </td><td>0.02778  </td><td>0.27785  </td><td>2.46875  </td><td>21.43548 </td><td>2.54787  </td><td>26.35881 </td><td>0.356    </td><td>482831   </td><td>0.3059879</td><td>267380.8 </td><td>14.30693 </td><td>35.51234 </td><td>7        </td><td>2.8      </td></tr>\n",
       "\t<tr><td>3        </td><td>25.5     </td><td>0.02778  </td><td>0.27785  </td><td>2.46875  </td><td>21.43548 </td><td>2.54787  </td><td>26.35881 </td><td>0.356    </td><td>482831   </td><td>0.3059879</td><td>267380.8 </td><td>14.30693 </td><td>35.51234 </td><td>7        </td><td>2.8      </td></tr>\n",
       "\t<tr><td>4        </td><td>24.0     </td><td>0.02778  </td><td>0.27785  </td><td>2.46875  </td><td>21.43548 </td><td>2.54787  </td><td>26.35881 </td><td>0.356    </td><td>482831   </td><td>0.3059879</td><td>267380.8 </td><td>14.30693 </td><td>35.51234 </td><td>7        </td><td>2.8      </td></tr>\n",
       "\t<tr><td>5        </td><td>22.0     </td><td>0.02778  </td><td>0.27785  </td><td>2.46875  </td><td>21.43548 </td><td>2.54787  </td><td>24.85867 </td><td>0.356    </td><td>482831   </td><td>0.3059879</td><td>267380.8 </td><td>14.30693 </td><td>35.51234 </td><td>7        </td><td>2.8      </td></tr>\n",
       "</tbody>\n",
       "</table>\n"
      ],
      "text/latex": [
       "\\begin{tabular}{r|llllllllllllllll}\n",
       " X & length & cfin1 & cfin2 & chel1 & chel2 & lcop1 & lcop2 & fbar & recr & cumf & totaln & sst & sal & xmonth & nao\\\\\n",
       "\\hline\n",
       "\t 0         & 23.0      & 0.02778   & 0.27785   & 2.46875   & 21.67333  & 2.54787   & 26.35881  & 0.356     & 482831    & 0.3059879 & 267380.8  & 14.30693  & 35.51234  & 7         & 2.8      \\\\\n",
       "\t 1         & 22.5      & 0.02778   & 0.27785   & 2.46875   & 21.43548  & 2.54787   & 26.35881  & 0.356     & 482831    & 0.3059879 & 267380.8  & 14.30693  & 35.51234  & 7         & 2.8      \\\\\n",
       "\t 2         & 25.0      & 0.02778   & 0.27785   & 2.46875   & 21.43548  & 2.54787   & 26.35881  & 0.356     & 482831    & 0.3059879 & 267380.8  & 14.30693  & 35.51234  & 7         & 2.8      \\\\\n",
       "\t 3         & 25.5      & 0.02778   & 0.27785   & 2.46875   & 21.43548  & 2.54787   & 26.35881  & 0.356     & 482831    & 0.3059879 & 267380.8  & 14.30693  & 35.51234  & 7         & 2.8      \\\\\n",
       "\t 4         & 24.0      & 0.02778   & 0.27785   & 2.46875   & 21.43548  & 2.54787   & 26.35881  & 0.356     & 482831    & 0.3059879 & 267380.8  & 14.30693  & 35.51234  & 7         & 2.8      \\\\\n",
       "\t 5         & 22.0      & 0.02778   & 0.27785   & 2.46875   & 21.43548  & 2.54787   & 24.85867  & 0.356     & 482831    & 0.3059879 & 267380.8  & 14.30693  & 35.51234  & 7         & 2.8      \\\\\n",
       "\\end{tabular}\n"
      ],
      "text/markdown": [
       "\n",
       "| X | length | cfin1 | cfin2 | chel1 | chel2 | lcop1 | lcop2 | fbar | recr | cumf | totaln | sst | sal | xmonth | nao |\n",
       "|---|---|---|---|---|---|---|---|---|---|---|---|---|---|---|---|\n",
       "| 0         | 23.0      | 0.02778   | 0.27785   | 2.46875   | 21.67333  | 2.54787   | 26.35881  | 0.356     | 482831    | 0.3059879 | 267380.8  | 14.30693  | 35.51234  | 7         | 2.8       |\n",
       "| 1         | 22.5      | 0.02778   | 0.27785   | 2.46875   | 21.43548  | 2.54787   | 26.35881  | 0.356     | 482831    | 0.3059879 | 267380.8  | 14.30693  | 35.51234  | 7         | 2.8       |\n",
       "| 2         | 25.0      | 0.02778   | 0.27785   | 2.46875   | 21.43548  | 2.54787   | 26.35881  | 0.356     | 482831    | 0.3059879 | 267380.8  | 14.30693  | 35.51234  | 7         | 2.8       |\n",
       "| 3         | 25.5      | 0.02778   | 0.27785   | 2.46875   | 21.43548  | 2.54787   | 26.35881  | 0.356     | 482831    | 0.3059879 | 267380.8  | 14.30693  | 35.51234  | 7         | 2.8       |\n",
       "| 4         | 24.0      | 0.02778   | 0.27785   | 2.46875   | 21.43548  | 2.54787   | 26.35881  | 0.356     | 482831    | 0.3059879 | 267380.8  | 14.30693  | 35.51234  | 7         | 2.8       |\n",
       "| 5         | 22.0      | 0.02778   | 0.27785   | 2.46875   | 21.43548  | 2.54787   | 24.85867  | 0.356     | 482831    | 0.3059879 | 267380.8  | 14.30693  | 35.51234  | 7         | 2.8       |\n",
       "\n"
      ],
      "text/plain": [
       "  X length cfin1   cfin2   chel1   chel2    lcop1   lcop2    fbar  recr  \n",
       "1 0 23.0   0.02778 0.27785 2.46875 21.67333 2.54787 26.35881 0.356 482831\n",
       "2 1 22.5   0.02778 0.27785 2.46875 21.43548 2.54787 26.35881 0.356 482831\n",
       "3 2 25.0   0.02778 0.27785 2.46875 21.43548 2.54787 26.35881 0.356 482831\n",
       "4 3 25.5   0.02778 0.27785 2.46875 21.43548 2.54787 26.35881 0.356 482831\n",
       "5 4 24.0   0.02778 0.27785 2.46875 21.43548 2.54787 26.35881 0.356 482831\n",
       "6 5 22.0   0.02778 0.27785 2.46875 21.43548 2.54787 24.85867 0.356 482831\n",
       "  cumf      totaln   sst      sal      xmonth nao\n",
       "1 0.3059879 267380.8 14.30693 35.51234 7      2.8\n",
       "2 0.3059879 267380.8 14.30693 35.51234 7      2.8\n",
       "3 0.3059879 267380.8 14.30693 35.51234 7      2.8\n",
       "4 0.3059879 267380.8 14.30693 35.51234 7      2.8\n",
       "5 0.3059879 267380.8 14.30693 35.51234 7      2.8\n",
       "6 0.3059879 267380.8 14.30693 35.51234 7      2.8"
      ]
     },
     "metadata": {},
     "output_type": "display_data"
    }
   ],
   "source": [
    "head(data)"
   ]
  },
  {
   "cell_type": "code",
   "execution_count": 116,
   "metadata": {},
   "outputs": [
    {
     "data": {
      "text/html": [
       "<dl class=dl-horizontal>\n",
       "\t<dt>X</dt>\n",
       "\t\t<dd>0</dd>\n",
       "\t<dt>length</dt>\n",
       "\t\t<dd>0</dd>\n",
       "\t<dt>cfin1</dt>\n",
       "\t\t<dd>0</dd>\n",
       "\t<dt>cfin2</dt>\n",
       "\t\t<dd>0</dd>\n",
       "\t<dt>chel1</dt>\n",
       "\t\t<dd>0</dd>\n",
       "\t<dt>chel2</dt>\n",
       "\t\t<dd>0</dd>\n",
       "\t<dt>lcop1</dt>\n",
       "\t\t<dd>0</dd>\n",
       "\t<dt>lcop2</dt>\n",
       "\t\t<dd>0</dd>\n",
       "\t<dt>fbar</dt>\n",
       "\t\t<dd>0</dd>\n",
       "\t<dt>recr</dt>\n",
       "\t\t<dd>0</dd>\n",
       "\t<dt>cumf</dt>\n",
       "\t\t<dd>0</dd>\n",
       "\t<dt>totaln</dt>\n",
       "\t\t<dd>0</dd>\n",
       "\t<dt>sst</dt>\n",
       "\t\t<dd>0</dd>\n",
       "\t<dt>sal</dt>\n",
       "\t\t<dd>0</dd>\n",
       "\t<dt>xmonth</dt>\n",
       "\t\t<dd>0</dd>\n",
       "\t<dt>nao</dt>\n",
       "\t\t<dd>0</dd>\n",
       "</dl>\n"
      ],
      "text/latex": [
       "\\begin{description*}\n",
       "\\item[X] 0\n",
       "\\item[length] 0\n",
       "\\item[cfin1] 0\n",
       "\\item[cfin2] 0\n",
       "\\item[chel1] 0\n",
       "\\item[chel2] 0\n",
       "\\item[lcop1] 0\n",
       "\\item[lcop2] 0\n",
       "\\item[fbar] 0\n",
       "\\item[recr] 0\n",
       "\\item[cumf] 0\n",
       "\\item[totaln] 0\n",
       "\\item[sst] 0\n",
       "\\item[sal] 0\n",
       "\\item[xmonth] 0\n",
       "\\item[nao] 0\n",
       "\\end{description*}\n"
      ],
      "text/markdown": [
       "X\n",
       ":   0length\n",
       ":   0cfin1\n",
       ":   0cfin2\n",
       ":   0chel1\n",
       ":   0chel2\n",
       ":   0lcop1\n",
       ":   0lcop2\n",
       ":   0fbar\n",
       ":   0recr\n",
       ":   0cumf\n",
       ":   0totaln\n",
       ":   0sst\n",
       ":   0sal\n",
       ":   0xmonth\n",
       ":   0nao\n",
       ":   0\n",
       "\n"
      ],
      "text/plain": [
       "     X length  cfin1  cfin2  chel1  chel2  lcop1  lcop2   fbar   recr   cumf \n",
       "     0      0      0      0      0      0      0      0      0      0      0 \n",
       "totaln    sst    sal xmonth    nao \n",
       "     0      0      0      0      0 "
      ]
     },
     "metadata": {},
     "output_type": "display_data"
    }
   ],
   "source": [
    "sapply(data, function(x) sum(is.na(x)))"
   ]
  },
  {
   "cell_type": "markdown",
   "metadata": {},
   "source": [
    "W danych nie ma już brakujących wartości."
   ]
  },
  {
   "cell_type": "markdown",
   "metadata": {},
   "source": [
    "## 5. Sekcja podsumowująca rozmiar zbioru i podstawowe statystyki."
   ]
  },
  {
   "cell_type": "code",
   "execution_count": 117,
   "metadata": {},
   "outputs": [
    {
     "data": {
      "text/html": [
       "52582"
      ],
      "text/latex": [
       "52582"
      ],
      "text/markdown": [
       "52582"
      ],
      "text/plain": [
       "[1] 52582"
      ]
     },
     "metadata": {},
     "output_type": "display_data"
    }
   ],
   "source": [
    "nrow(data)"
   ]
  },
  {
   "cell_type": "code",
   "execution_count": 118,
   "metadata": {},
   "outputs": [
    {
     "data": {
      "text/plain": [
       "       X             length         cfin1             cfin2        \n",
       " Min.   :    0   Min.   :19.0   Min.   : 0.0000   Min.   : 0.0000  \n",
       " 1st Qu.:13145   1st Qu.:24.0   1st Qu.: 0.0000   1st Qu.: 0.2778  \n",
       " Median :26291   Median :25.5   Median : 0.1111   Median : 0.7012  \n",
       " Mean   :26291   Mean   :25.3   Mean   : 0.4358   Mean   : 1.9862  \n",
       " 3rd Qu.:39436   3rd Qu.:26.5   3rd Qu.: 0.3333   3rd Qu.: 1.7936  \n",
       " Max.   :52581   Max.   :32.5   Max.   :37.6667   Max.   :19.3958  \n",
       "     chel1            chel2            lcop1              lcop2       \n",
       " Min.   : 0.000   Min.   : 5.238   Min.   :  0.3074   Min.   : 7.849  \n",
       " 1st Qu.: 2.469   1st Qu.:13.589   1st Qu.:  2.5479   1st Qu.:17.808  \n",
       " Median : 5.750   Median :21.673   Median :  7.0000   Median :24.859  \n",
       " Mean   : 9.880   Mean   :21.234   Mean   : 12.6281   Mean   :28.311  \n",
       " 3rd Qu.:11.500   3rd Qu.:27.193   3rd Qu.: 21.2315   3rd Qu.:37.232  \n",
       " Max.   :75.000   Max.   :57.706   Max.   :115.5833   Max.   :68.736  \n",
       "      fbar             recr              cumf             totaln       \n",
       " Min.   :0.0680   Min.   : 140515   Min.   :0.06833   Min.   : 144137  \n",
       " 1st Qu.:0.2270   1st Qu.: 360061   1st Qu.:0.14809   1st Qu.: 306068  \n",
       " Median :0.3320   Median : 421391   Median :0.23191   Median : 539558  \n",
       " Mean   :0.3304   Mean   : 520367   Mean   :0.22981   Mean   : 514973  \n",
       " 3rd Qu.:0.4560   3rd Qu.: 724151   3rd Qu.:0.29803   3rd Qu.: 730351  \n",
       " Max.   :0.8490   Max.   :1565890   Max.   :0.39801   Max.   :1015595  \n",
       "      sst             sal            xmonth            nao          \n",
       " Min.   :12.77   Min.   :35.40   Min.   : 1.000   Min.   :-4.89000  \n",
       " 1st Qu.:13.63   1st Qu.:35.51   1st Qu.: 5.000   1st Qu.:-1.89000  \n",
       " Median :13.86   Median :35.51   Median : 8.000   Median : 0.20000  \n",
       " Mean   :13.87   Mean   :35.51   Mean   : 7.258   Mean   :-0.09236  \n",
       " 3rd Qu.:14.16   3rd Qu.:35.52   3rd Qu.: 9.000   3rd Qu.: 1.63000  \n",
       " Max.   :14.73   Max.   :35.61   Max.   :12.000   Max.   : 5.08000  "
      ]
     },
     "metadata": {},
     "output_type": "display_data"
    }
   ],
   "source": [
    "summary(data)"
   ]
  },
  {
   "cell_type": "markdown",
   "metadata": {},
   "source": [
    "Zbiór liczy 52582 rekordów. Średnia długość śledzia to 25.3 cm."
   ]
  },
  {
   "cell_type": "markdown",
   "metadata": {},
   "source": [
    "## 6. Szczegółowa analiza wartości atrybutów (np. poprzez prezentację rozkładów wartości)."
   ]
  },
  {
   "cell_type": "markdown",
   "metadata": {},
   "source": [
    "Spróbujmy zwizualizować dane zwrócone przez funkcję summary. Użyjemy do tego wykresów pudełkowych i histogramów."
   ]
  },
  {
   "cell_type": "code",
   "execution_count": 119,
   "metadata": {},
   "outputs": [
    {
     "data": {
      "image/png": "[encoded data removed]",
      "text/plain": [
       "plot without title"
      ]
     },
     "metadata": {},
     "output_type": "display_data"
    }
   ],
   "source": [
    "meltData <- melt(data, id.vars=\"X\")\n",
    "p <- ggplot(meltData, aes(factor(variable), value)) \n",
    "p + geom_boxplot() + facet_wrap(~variable, scale=\"free\")"
   ]
  },
  {
   "cell_type": "markdown",
   "metadata": {},
   "source": [
    "Jak widzimy w przypadku długości śledzia średnia jest w przybliżeniu w równej odległości od kwartyli Q1 i Q3. Pojawia się wiele outlierów.\n",
    "\n",
    "Również dla zmiennej sal (poziom zasolenia) jest wiele wartości odstających, widocznie występują miejsca o szczególnie wysokim i niskim zasoleniu (np. niskie tam, gdzie rzeki wpadają do morza).\n",
    "\n",
    "Dla zmiennej cfin1 (dostępność planktonu [zagęszczenie Calanus finmarchicus gat. 1]) obserwujemy niesymetryczny rozkład - albo tego rodzaju planktonu jest bardzo niewiele (w większości przypadków) albo bardzo dużo.\n",
    "\n",
    "Spójrzmy na histogramy."
   ]
  },
  {
   "cell_type": "code",
   "execution_count": 120,
   "metadata": {},
   "outputs": [
    {
     "data": {
      "image/png": "[encoded data removed]",
      "text/plain": [
       "Plot with title \"recr\""
      ]
     },
     "metadata": {},
     "output_type": "display_data"
    },
    {
     "data": {
      "image/png": "[encoded data removed]",
      "text/plain": [
       "Plot with title \"nao\""
      ]
     },
     "metadata": {},
     "output_type": "display_data"
    }
   ],
   "source": [
    "par(mfrow=c(2,5))\n",
    "for (i in 1:length(data)) {\n",
    "        hist(data[,i], main=names(data[i]), xlab=\"\")\n",
    "}"
   ]
  },
  {
   "cell_type": "markdown",
   "metadata": {},
   "source": [
    "Do podobnych wniosków dochodzimy obserwując histogramy - rozkład cfin1 jest silnie prawoskośny, podobnie cfin2 i lcop1."
   ]
  },
  {
   "cell_type": "markdown",
   "metadata": {},
   "source": [
    "## 7. Sekcja sprawdzająca korelacje między zmiennymi; sekcja ta powinna zawierać jakąś formę graficznej prezentacji korelacji."
   ]
  },
  {
   "cell_type": "markdown",
   "metadata": {},
   "source": [
    "Po pierwsze zobaczmy, jak wielkość śledzia (length) zależy od czasu (X)."
   ]
  },
  {
   "cell_type": "code",
   "execution_count": 121,
   "metadata": {},
   "outputs": [
    {
     "data": {
      "image/png": "[encoded data removed]",
      "text/plain": [
       "plot without title"
      ]
     },
     "metadata": {},
     "output_type": "display_data"
    }
   ],
   "source": [
    "ggplot(data = data, aes(x=X, y=length, group=1)) +\n",
    "  geom_line(color=\"steelblue\") +\n",
    "  geom_smooth(method=\"lm\", fill=\"lightgreen\", color=\"darkgreen\", alpha=0.4) +\n",
    "  theme_grey()"
   ]
  },
  {
   "cell_type": "markdown",
   "metadata": {},
   "source": [
    "Widzimy tendencję malejącą, jednak wykres nie jest zbyt czytelny. Spróbujmy pogrupować dane.\n",
    "\n",
    "W opisie danych jest informacja, że w zmiennej xmonth przechowywany jest miesiąc połowu."
   ]
  },
  {
   "cell_type": "code",
   "execution_count": 122,
   "metadata": {},
   "outputs": [
    {
     "data": {
      "text/html": [
       "<ol class=list-inline>\n",
       "\t<li>7</li>\n",
       "\t<li>7</li>\n",
       "\t<li>7</li>\n",
       "\t<li>7</li>\n",
       "\t<li>7</li>\n",
       "\t<li>7</li>\n",
       "\t<li>7</li>\n",
       "\t<li>7</li>\n",
       "\t<li>7</li>\n",
       "\t<li>7</li>\n",
       "\t<li>7</li>\n",
       "\t<li>6</li>\n",
       "\t<li>6</li>\n",
       "\t<li>6</li>\n",
       "\t<li>6</li>\n",
       "\t<li>6</li>\n",
       "\t<li>6</li>\n",
       "\t<li>6</li>\n",
       "\t<li>6</li>\n",
       "\t<li>6</li>\n",
       "\t<li>6</li>\n",
       "\t<li>6</li>\n",
       "\t<li>6</li>\n",
       "\t<li>6</li>\n",
       "\t<li>6</li>\n",
       "\t<li>6</li>\n",
       "\t<li>6</li>\n",
       "\t<li>6</li>\n",
       "\t<li>5</li>\n",
       "\t<li>5</li>\n",
       "\t<li>3</li>\n",
       "\t<li>3</li>\n",
       "\t<li>3</li>\n",
       "\t<li>6</li>\n",
       "\t<li>6</li>\n",
       "\t<li>6</li>\n",
       "\t<li>6</li>\n",
       "\t<li>6</li>\n",
       "\t<li>3</li>\n",
       "\t<li>3</li>\n",
       "\t<li>3</li>\n",
       "\t<li>3</li>\n",
       "\t<li>3</li>\n",
       "\t<li>3</li>\n",
       "\t<li>3</li>\n",
       "\t<li>3</li>\n",
       "\t<li>3</li>\n",
       "\t<li>3</li>\n",
       "\t<li>6</li>\n",
       "\t<li>6</li>\n",
       "\t<li>6</li>\n",
       "\t<li>4</li>\n",
       "\t<li>4</li>\n",
       "\t<li>4</li>\n",
       "\t<li>4</li>\n",
       "\t<li>4</li>\n",
       "\t<li>4</li>\n",
       "\t<li>4</li>\n",
       "\t<li>4</li>\n",
       "\t<li>4</li>\n",
       "\t<li>4</li>\n",
       "\t<li>4</li>\n",
       "\t<li>4</li>\n",
       "\t<li>4</li>\n",
       "\t<li>4</li>\n",
       "\t<li>4</li>\n",
       "\t<li>4</li>\n",
       "\t<li>4</li>\n",
       "\t<li>4</li>\n",
       "\t<li>6</li>\n",
       "\t<li>6</li>\n",
       "\t<li>5</li>\n",
       "\t<li>5</li>\n",
       "\t<li>5</li>\n",
       "\t<li>8</li>\n",
       "\t<li>8</li>\n",
       "\t<li>8</li>\n",
       "\t<li>8</li>\n",
       "\t<li>8</li>\n",
       "\t<li>8</li>\n",
       "\t<li>8</li>\n",
       "\t<li>8</li>\n",
       "\t<li>8</li>\n",
       "\t<li>8</li>\n",
       "\t<li>3</li>\n",
       "\t<li>3</li>\n",
       "\t<li>5</li>\n",
       "\t<li>5</li>\n",
       "\t<li>5</li>\n",
       "\t<li>5</li>\n",
       "\t<li>5</li>\n",
       "\t<li>5</li>\n",
       "\t<li>5</li>\n",
       "\t<li>9</li>\n",
       "\t<li>9</li>\n",
       "\t<li>9</li>\n",
       "\t<li>9</li>\n",
       "\t<li>9</li>\n",
       "\t<li>9</li>\n",
       "\t<li>4</li>\n",
       "</ol>\n"
      ],
      "text/latex": [
       "\\begin{enumerate*}\n",
       "\\item 7\n",
       "\\item 7\n",
       "\\item 7\n",
       "\\item 7\n",
       "\\item 7\n",
       "\\item 7\n",
       "\\item 7\n",
       "\\item 7\n",
       "\\item 7\n",
       "\\item 7\n",
       "\\item 7\n",
       "\\item 6\n",
       "\\item 6\n",
       "\\item 6\n",
       "\\item 6\n",
       "\\item 6\n",
       "\\item 6\n",
       "\\item 6\n",
       "\\item 6\n",
       "\\item 6\n",
       "\\item 6\n",
       "\\item 6\n",
       "\\item 6\n",
       "\\item 6\n",
       "\\item 6\n",
       "\\item 6\n",
       "\\item 6\n",
       "\\item 6\n",
       "\\item 5\n",
       "\\item 5\n",
       "\\item 3\n",
       "\\item 3\n",
       "\\item 3\n",
       "\\item 6\n",
       "\\item 6\n",
       "\\item 6\n",
       "\\item 6\n",
       "\\item 6\n",
       "\\item 3\n",
       "\\item 3\n",
       "\\item 3\n",
       "\\item 3\n",
       "\\item 3\n",
       "\\item 3\n",
       "\\item 3\n",
       "\\item 3\n",
       "\\item 3\n",
       "\\item 3\n",
       "\\item 6\n",
       "\\item 6\n",
       "\\item 6\n",
       "\\item 4\n",
       "\\item 4\n",
       "\\item 4\n",
       "\\item 4\n",
       "\\item 4\n",
       "\\item 4\n",
       "\\item 4\n",
       "\\item 4\n",
       "\\item 4\n",
       "\\item 4\n",
       "\\item 4\n",
       "\\item 4\n",
       "\\item 4\n",
       "\\item 4\n",
       "\\item 4\n",
       "\\item 4\n",
       "\\item 4\n",
       "\\item 4\n",
       "\\item 6\n",
       "\\item 6\n",
       "\\item 5\n",
       "\\item 5\n",
       "\\item 5\n",
       "\\item 8\n",
       "\\item 8\n",
       "\\item 8\n",
       "\\item 8\n",
       "\\item 8\n",
       "\\item 8\n",
       "\\item 8\n",
       "\\item 8\n",
       "\\item 8\n",
       "\\item 8\n",
       "\\item 3\n",
       "\\item 3\n",
       "\\item 5\n",
       "\\item 5\n",
       "\\item 5\n",
       "\\item 5\n",
       "\\item 5\n",
       "\\item 5\n",
       "\\item 5\n",
       "\\item 9\n",
       "\\item 9\n",
       "\\item 9\n",
       "\\item 9\n",
       "\\item 9\n",
       "\\item 9\n",
       "\\item 4\n",
       "\\end{enumerate*}\n"
      ],
      "text/markdown": [
       "1. 7\n",
       "2. 7\n",
       "3. 7\n",
       "4. 7\n",
       "5. 7\n",
       "6. 7\n",
       "7. 7\n",
       "8. 7\n",
       "9. 7\n",
       "10. 7\n",
       "11. 7\n",
       "12. 6\n",
       "13. 6\n",
       "14. 6\n",
       "15. 6\n",
       "16. 6\n",
       "17. 6\n",
       "18. 6\n",
       "19. 6\n",
       "20. 6\n",
       "21. 6\n",
       "22. 6\n",
       "23. 6\n",
       "24. 6\n",
       "25. 6\n",
       "26. 6\n",
       "27. 6\n",
       "28. 6\n",
       "29. 5\n",
       "30. 5\n",
       "31. 3\n",
       "32. 3\n",
       "33. 3\n",
       "34. 6\n",
       "35. 6\n",
       "36. 6\n",
       "37. 6\n",
       "38. 6\n",
       "39. 3\n",
       "40. 3\n",
       "41. 3\n",
       "42. 3\n",
       "43. 3\n",
       "44. 3\n",
       "45. 3\n",
       "46. 3\n",
       "47. 3\n",
       "48. 3\n",
       "49. 6\n",
       "50. 6\n",
       "51. 6\n",
       "52. 4\n",
       "53. 4\n",
       "54. 4\n",
       "55. 4\n",
       "56. 4\n",
       "57. 4\n",
       "58. 4\n",
       "59. 4\n",
       "60. 4\n",
       "61. 4\n",
       "62. 4\n",
       "63. 4\n",
       "64. 4\n",
       "65. 4\n",
       "66. 4\n",
       "67. 4\n",
       "68. 4\n",
       "69. 4\n",
       "70. 6\n",
       "71. 6\n",
       "72. 5\n",
       "73. 5\n",
       "74. 5\n",
       "75. 8\n",
       "76. 8\n",
       "77. 8\n",
       "78. 8\n",
       "79. 8\n",
       "80. 8\n",
       "81. 8\n",
       "82. 8\n",
       "83. 8\n",
       "84. 8\n",
       "85. 3\n",
       "86. 3\n",
       "87. 5\n",
       "88. 5\n",
       "89. 5\n",
       "90. 5\n",
       "91. 5\n",
       "92. 5\n",
       "93. 5\n",
       "94. 9\n",
       "95. 9\n",
       "96. 9\n",
       "97. 9\n",
       "98. 9\n",
       "99. 9\n",
       "100. 4\n",
       "\n",
       "\n"
      ],
      "text/plain": [
       "  [1] 7 7 7 7 7 7 7 7 7 7 7 6 6 6 6 6 6 6 6 6 6 6 6 6 6 6 6 6 5 5 3 3 3 6 6 6 6\n",
       " [38] 6 3 3 3 3 3 3 3 3 3 3 6 6 6 4 4 4 4 4 4 4 4 4 4 4 4 4 4 4 4 4 4 6 6 5 5 5\n",
       " [75] 8 8 8 8 8 8 8 8 8 8 3 3 5 5 5 5 5 5 5 9 9 9 9 9 9 4"
      ]
     },
     "metadata": {},
     "output_type": "display_data"
    }
   ],
   "source": [
    "head(data$xmonth, 100)"
   ]
  },
  {
   "cell_type": "markdown",
   "metadata": {},
   "source": [
    "Okazuje się, że miesiące nie są podane chronologicznie (\"6 6 5 5 3 3 3 6\"), zatem nie można pogrupować na ich podstawie danych w lata.\n",
    "\n",
    "Sprawdźmy zmienną recr, która opisuje roczny narybek."
   ]
  },
  {
   "cell_type": "code",
   "execution_count": 123,
   "metadata": {},
   "outputs": [
    {
     "data": {
      "text/html": [
       "52"
      ],
      "text/latex": [
       "52"
      ],
      "text/markdown": [
       "52"
      ],
      "text/plain": [
       "[1] 52"
      ]
     },
     "metadata": {},
     "output_type": "display_data"
    }
   ],
   "source": [
    "length(unique(data$recr))"
   ]
  },
  {
   "cell_type": "markdown",
   "metadata": {},
   "source": [
    "Przez 60 lat spodziewalibyśmy się 60 różnych wartości. Okazuje się, że jest ich 52, więc ta zmienna również się nie przyda.\n",
    "Pogrupujmy zatem dane w kubełki o równej liczności (za wyjątkiem ostatniego) na podstawie kolejności chronologicznej (X)."
   ]
  },
  {
   "cell_type": "code",
   "execution_count": 124,
   "metadata": {},
   "outputs": [
    {
     "name": "stdout",
     "output_type": "stream",
     "text": [
      "[1] 877\n"
     ]
    }
   ],
   "source": [
    "numberOfYears = 60\n",
    "rowsInYear = ceiling( nrow(data) / 60)\n",
    "print(rowsInYear)\n",
    "data_years <- data %>%  mutate(year = floor(X/rowsInYear) + 1)"
   ]
  },
  {
   "cell_type": "code",
   "execution_count": 125,
   "metadata": {},
   "outputs": [
    {
     "data": {
      "text/html": [
       "<table>\n",
       "<thead><tr><th scope=col>X</th><th scope=col>length</th><th scope=col>cfin1</th><th scope=col>cfin2</th><th scope=col>chel1</th><th scope=col>chel2</th><th scope=col>lcop1</th><th scope=col>lcop2</th><th scope=col>fbar</th><th scope=col>recr</th><th scope=col>cumf</th><th scope=col>totaln</th><th scope=col>sst</th><th scope=col>sal</th><th scope=col>xmonth</th><th scope=col>nao</th><th scope=col>year</th></tr></thead>\n",
       "<tbody>\n",
       "\t<tr><td>0        </td><td>23.0     </td><td>0.02778  </td><td>0.27785  </td><td>2.46875  </td><td>21.67333 </td><td>2.54787  </td><td>26.35881 </td><td>0.356    </td><td>482831   </td><td>0.3059879</td><td>267380.8 </td><td>14.30693 </td><td>35.51234 </td><td>7        </td><td>2.8      </td><td>1        </td></tr>\n",
       "\t<tr><td>1        </td><td>22.5     </td><td>0.02778  </td><td>0.27785  </td><td>2.46875  </td><td>21.43548 </td><td>2.54787  </td><td>26.35881 </td><td>0.356    </td><td>482831   </td><td>0.3059879</td><td>267380.8 </td><td>14.30693 </td><td>35.51234 </td><td>7        </td><td>2.8      </td><td>1        </td></tr>\n",
       "\t<tr><td>2        </td><td>25.0     </td><td>0.02778  </td><td>0.27785  </td><td>2.46875  </td><td>21.43548 </td><td>2.54787  </td><td>26.35881 </td><td>0.356    </td><td>482831   </td><td>0.3059879</td><td>267380.8 </td><td>14.30693 </td><td>35.51234 </td><td>7        </td><td>2.8      </td><td>1        </td></tr>\n",
       "\t<tr><td>3        </td><td>25.5     </td><td>0.02778  </td><td>0.27785  </td><td>2.46875  </td><td>21.43548 </td><td>2.54787  </td><td>26.35881 </td><td>0.356    </td><td>482831   </td><td>0.3059879</td><td>267380.8 </td><td>14.30693 </td><td>35.51234 </td><td>7        </td><td>2.8      </td><td>1        </td></tr>\n",
       "\t<tr><td>4        </td><td>24.0     </td><td>0.02778  </td><td>0.27785  </td><td>2.46875  </td><td>21.43548 </td><td>2.54787  </td><td>26.35881 </td><td>0.356    </td><td>482831   </td><td>0.3059879</td><td>267380.8 </td><td>14.30693 </td><td>35.51234 </td><td>7        </td><td>2.8      </td><td>1        </td></tr>\n",
       "</tbody>\n",
       "</table>\n"
      ],
      "text/latex": [
       "\\begin{tabular}{r|lllllllllllllllll}\n",
       " X & length & cfin1 & cfin2 & chel1 & chel2 & lcop1 & lcop2 & fbar & recr & cumf & totaln & sst & sal & xmonth & nao & year\\\\\n",
       "\\hline\n",
       "\t 0         & 23.0      & 0.02778   & 0.27785   & 2.46875   & 21.67333  & 2.54787   & 26.35881  & 0.356     & 482831    & 0.3059879 & 267380.8  & 14.30693  & 35.51234  & 7         & 2.8       & 1        \\\\\n",
       "\t 1         & 22.5      & 0.02778   & 0.27785   & 2.46875   & 21.43548  & 2.54787   & 26.35881  & 0.356     & 482831    & 0.3059879 & 267380.8  & 14.30693  & 35.51234  & 7         & 2.8       & 1        \\\\\n",
       "\t 2         & 25.0      & 0.02778   & 0.27785   & 2.46875   & 21.43548  & 2.54787   & 26.35881  & 0.356     & 482831    & 0.3059879 & 267380.8  & 14.30693  & 35.51234  & 7         & 2.8       & 1        \\\\\n",
       "\t 3         & 25.5      & 0.02778   & 0.27785   & 2.46875   & 21.43548  & 2.54787   & 26.35881  & 0.356     & 482831    & 0.3059879 & 267380.8  & 14.30693  & 35.51234  & 7         & 2.8       & 1        \\\\\n",
       "\t 4         & 24.0      & 0.02778   & 0.27785   & 2.46875   & 21.43548  & 2.54787   & 26.35881  & 0.356     & 482831    & 0.3059879 & 267380.8  & 14.30693  & 35.51234  & 7         & 2.8       & 1        \\\\\n",
       "\\end{tabular}\n"
      ],
      "text/markdown": [
       "\n",
       "| X | length | cfin1 | cfin2 | chel1 | chel2 | lcop1 | lcop2 | fbar | recr | cumf | totaln | sst | sal | xmonth | nao | year |\n",
       "|---|---|---|---|---|---|---|---|---|---|---|---|---|---|---|---|---|\n",
       "| 0         | 23.0      | 0.02778   | 0.27785   | 2.46875   | 21.67333  | 2.54787   | 26.35881  | 0.356     | 482831    | 0.3059879 | 267380.8  | 14.30693  | 35.51234  | 7         | 2.8       | 1         |\n",
       "| 1         | 22.5      | 0.02778   | 0.27785   | 2.46875   | 21.43548  | 2.54787   | 26.35881  | 0.356     | 482831    | 0.3059879 | 267380.8  | 14.30693  | 35.51234  | 7         | 2.8       | 1         |\n",
       "| 2         | 25.0      | 0.02778   | 0.27785   | 2.46875   | 21.43548  | 2.54787   | 26.35881  | 0.356     | 482831    | 0.3059879 | 267380.8  | 14.30693  | 35.51234  | 7         | 2.8       | 1         |\n",
       "| 3         | 25.5      | 0.02778   | 0.27785   | 2.46875   | 21.43548  | 2.54787   | 26.35881  | 0.356     | 482831    | 0.3059879 | 267380.8  | 14.30693  | 35.51234  | 7         | 2.8       | 1         |\n",
       "| 4         | 24.0      | 0.02778   | 0.27785   | 2.46875   | 21.43548  | 2.54787   | 26.35881  | 0.356     | 482831    | 0.3059879 | 267380.8  | 14.30693  | 35.51234  | 7         | 2.8       | 1         |\n",
       "\n"
      ],
      "text/plain": [
       "  X length cfin1   cfin2   chel1   chel2    lcop1   lcop2    fbar  recr  \n",
       "1 0 23.0   0.02778 0.27785 2.46875 21.67333 2.54787 26.35881 0.356 482831\n",
       "2 1 22.5   0.02778 0.27785 2.46875 21.43548 2.54787 26.35881 0.356 482831\n",
       "3 2 25.0   0.02778 0.27785 2.46875 21.43548 2.54787 26.35881 0.356 482831\n",
       "4 3 25.5   0.02778 0.27785 2.46875 21.43548 2.54787 26.35881 0.356 482831\n",
       "5 4 24.0   0.02778 0.27785 2.46875 21.43548 2.54787 26.35881 0.356 482831\n",
       "  cumf      totaln   sst      sal      xmonth nao year\n",
       "1 0.3059879 267380.8 14.30693 35.51234 7      2.8 1   \n",
       "2 0.3059879 267380.8 14.30693 35.51234 7      2.8 1   \n",
       "3 0.3059879 267380.8 14.30693 35.51234 7      2.8 1   \n",
       "4 0.3059879 267380.8 14.30693 35.51234 7      2.8 1   \n",
       "5 0.3059879 267380.8 14.30693 35.51234 7      2.8 1   "
      ]
     },
     "metadata": {},
     "output_type": "display_data"
    },
    {
     "data": {
      "text/html": [
       "<table>\n",
       "<thead><tr><th></th><th scope=col>X</th><th scope=col>length</th><th scope=col>cfin1</th><th scope=col>cfin2</th><th scope=col>chel1</th><th scope=col>chel2</th><th scope=col>lcop1</th><th scope=col>lcop2</th><th scope=col>fbar</th><th scope=col>recr</th><th scope=col>cumf</th><th scope=col>totaln</th><th scope=col>sst</th><th scope=col>sal</th><th scope=col>xmonth</th><th scope=col>nao</th><th scope=col>year</th></tr></thead>\n",
       "<tbody>\n",
       "\t<tr><th scope=row>52578</th><td>52577    </td><td>24.0     </td><td>1.02508  </td><td>3.66319  </td><td>6.42127  </td><td>25.51806 </td><td>10.92857 </td><td>37.39201 </td><td>0.485    </td><td>724151   </td><td>0.3838187</td><td>457143.9 </td><td>13.7116  </td><td>35.51169 </td><td>11       </td><td> 2.05    </td><td>60       </td></tr>\n",
       "\t<tr><th scope=row>52579</th><td>52578    </td><td>26.0     </td><td>1.02508  </td><td>3.66319  </td><td>6.42127  </td><td>25.51806 </td><td>10.92857 </td><td>37.39201 </td><td>0.485    </td><td>724151   </td><td>0.3838187</td><td>457143.9 </td><td>13.7116  </td><td>35.51169 </td><td>11       </td><td> 2.05    </td><td>60       </td></tr>\n",
       "\t<tr><th scope=row>52580</th><td>52579    </td><td>25.0     </td><td>1.02508  </td><td>3.66319  </td><td>6.42127  </td><td>25.51806 </td><td>10.92857 </td><td>37.39201 </td><td>0.485    </td><td>724151   </td><td>0.3838187</td><td>457143.9 </td><td>13.7116  </td><td>35.51169 </td><td>11       </td><td> 2.05    </td><td>60       </td></tr>\n",
       "\t<tr><th scope=row>52581</th><td>52580    </td><td>25.0     </td><td>0.36032  </td><td>5.36402  </td><td>4.32674  </td><td>27.16006 </td><td> 5.08099 </td><td>36.68770 </td><td>0.434    </td><td>441827   </td><td>0.3726272</td><td>191976.2 </td><td>14.4796  </td><td>35.50777 </td><td> 6       </td><td>-1.90    </td><td>60       </td></tr>\n",
       "\t<tr><th scope=row>52582</th><td>52581    </td><td>23.5     </td><td>0.36032  </td><td>5.36402  </td><td>4.32674  </td><td>27.16006 </td><td> 7.00000 </td><td>36.68770 </td><td>0.434    </td><td>441827   </td><td>0.3726272</td><td>191976.2 </td><td>14.4796  </td><td>35.50777 </td><td> 6       </td><td>-1.90    </td><td>60       </td></tr>\n",
       "</tbody>\n",
       "</table>\n"
      ],
      "text/latex": [
       "\\begin{tabular}{r|lllllllllllllllll}\n",
       "  & X & length & cfin1 & cfin2 & chel1 & chel2 & lcop1 & lcop2 & fbar & recr & cumf & totaln & sst & sal & xmonth & nao & year\\\\\n",
       "\\hline\n",
       "\t52578 & 52577     & 24.0      & 1.02508   & 3.66319   & 6.42127   & 25.51806  & 10.92857  & 37.39201  & 0.485     & 724151    & 0.3838187 & 457143.9  & 13.7116   & 35.51169  & 11        &  2.05     & 60       \\\\\n",
       "\t52579 & 52578     & 26.0      & 1.02508   & 3.66319   & 6.42127   & 25.51806  & 10.92857  & 37.39201  & 0.485     & 724151    & 0.3838187 & 457143.9  & 13.7116   & 35.51169  & 11        &  2.05     & 60       \\\\\n",
       "\t52580 & 52579     & 25.0      & 1.02508   & 3.66319   & 6.42127   & 25.51806  & 10.92857  & 37.39201  & 0.485     & 724151    & 0.3838187 & 457143.9  & 13.7116   & 35.51169  & 11        &  2.05     & 60       \\\\\n",
       "\t52581 & 52580     & 25.0      & 0.36032   & 5.36402   & 4.32674   & 27.16006  &  5.08099  & 36.68770  & 0.434     & 441827    & 0.3726272 & 191976.2  & 14.4796   & 35.50777  &  6        & -1.90     & 60       \\\\\n",
       "\t52582 & 52581     & 23.5      & 0.36032   & 5.36402   & 4.32674   & 27.16006  &  7.00000  & 36.68770  & 0.434     & 441827    & 0.3726272 & 191976.2  & 14.4796   & 35.50777  &  6        & -1.90     & 60       \\\\\n",
       "\\end{tabular}\n"
      ],
      "text/markdown": [
       "\n",
       "| <!--/--> | X | length | cfin1 | cfin2 | chel1 | chel2 | lcop1 | lcop2 | fbar | recr | cumf | totaln | sst | sal | xmonth | nao | year |\n",
       "|---|---|---|---|---|---|---|---|---|---|---|---|---|---|---|---|---|---|\n",
       "| 52578 | 52577     | 24.0      | 1.02508   | 3.66319   | 6.42127   | 25.51806  | 10.92857  | 37.39201  | 0.485     | 724151    | 0.3838187 | 457143.9  | 13.7116   | 35.51169  | 11        |  2.05     | 60        |\n",
       "| 52579 | 52578     | 26.0      | 1.02508   | 3.66319   | 6.42127   | 25.51806  | 10.92857  | 37.39201  | 0.485     | 724151    | 0.3838187 | 457143.9  | 13.7116   | 35.51169  | 11        |  2.05     | 60        |\n",
       "| 52580 | 52579     | 25.0      | 1.02508   | 3.66319   | 6.42127   | 25.51806  | 10.92857  | 37.39201  | 0.485     | 724151    | 0.3838187 | 457143.9  | 13.7116   | 35.51169  | 11        |  2.05     | 60        |\n",
       "| 52581 | 52580     | 25.0      | 0.36032   | 5.36402   | 4.32674   | 27.16006  |  5.08099  | 36.68770  | 0.434     | 441827    | 0.3726272 | 191976.2  | 14.4796   | 35.50777  |  6        | -1.90     | 60        |\n",
       "| 52582 | 52581     | 23.5      | 0.36032   | 5.36402   | 4.32674   | 27.16006  |  7.00000  | 36.68770  | 0.434     | 441827    | 0.3726272 | 191976.2  | 14.4796   | 35.50777  |  6        | -1.90     | 60        |\n",
       "\n"
      ],
      "text/plain": [
       "      X     length cfin1   cfin2   chel1   chel2    lcop1    lcop2    fbar \n",
       "52578 52577 24.0   1.02508 3.66319 6.42127 25.51806 10.92857 37.39201 0.485\n",
       "52579 52578 26.0   1.02508 3.66319 6.42127 25.51806 10.92857 37.39201 0.485\n",
       "52580 52579 25.0   1.02508 3.66319 6.42127 25.51806 10.92857 37.39201 0.485\n",
       "52581 52580 25.0   0.36032 5.36402 4.32674 27.16006  5.08099 36.68770 0.434\n",
       "52582 52581 23.5   0.36032 5.36402 4.32674 27.16006  7.00000 36.68770 0.434\n",
       "      recr   cumf      totaln   sst     sal      xmonth nao   year\n",
       "52578 724151 0.3838187 457143.9 13.7116 35.51169 11      2.05 60  \n",
       "52579 724151 0.3838187 457143.9 13.7116 35.51169 11      2.05 60  \n",
       "52580 724151 0.3838187 457143.9 13.7116 35.51169 11      2.05 60  \n",
       "52581 441827 0.3726272 191976.2 14.4796 35.50777  6     -1.90 60  \n",
       "52582 441827 0.3726272 191976.2 14.4796 35.50777  6     -1.90 60  "
      ]
     },
     "metadata": {},
     "output_type": "display_data"
    }
   ],
   "source": [
    "head(data_years, 5)\n",
    "tail(data_years, 5)"
   ]
  },
  {
   "cell_type": "code",
   "execution_count": 126,
   "metadata": {},
   "outputs": [
    {
     "data": {
      "text/html": [
       "<table>\n",
       "<thead><tr><th scope=col>year</th><th scope=col>mean_length</th><th scope=col>from</th><th scope=col>to</th></tr></thead>\n",
       "<tbody>\n",
       "\t<tr><td> 1      </td><td>23.75770</td><td>22.04112</td><td>25.47428</td></tr>\n",
       "\t<tr><td> 2      </td><td>25.41334</td><td>23.92273</td><td>26.90396</td></tr>\n",
       "\t<tr><td> 3      </td><td>25.19270</td><td>23.65274</td><td>26.73267</td></tr>\n",
       "\t<tr><td> 4      </td><td>24.88940</td><td>23.29200</td><td>26.48679</td></tr>\n",
       "\t<tr><td> 5      </td><td>25.20296</td><td>23.80239</td><td>26.60354</td></tr>\n",
       "\t<tr><td> 6      </td><td>25.14994</td><td>23.81802</td><td>26.48186</td></tr>\n",
       "\t<tr><td> 7      </td><td>25.09350</td><td>23.65872</td><td>26.52828</td></tr>\n",
       "\t<tr><td> 8      </td><td>25.35120</td><td>24.00170</td><td>26.70070</td></tr>\n",
       "\t<tr><td> 9      </td><td>25.46351</td><td>24.12292</td><td>26.80410</td></tr>\n",
       "\t<tr><td>10      </td><td>26.15393</td><td>24.90898</td><td>27.39889</td></tr>\n",
       "\t<tr><td>11      </td><td>25.50114</td><td>24.12414</td><td>26.87814</td></tr>\n",
       "\t<tr><td>12      </td><td>25.94413</td><td>24.71183</td><td>27.17643</td></tr>\n",
       "\t<tr><td>13      </td><td>26.40992</td><td>25.17641</td><td>27.64343</td></tr>\n",
       "\t<tr><td>14      </td><td>26.12144</td><td>24.85665</td><td>27.38622</td></tr>\n",
       "\t<tr><td>15      </td><td>26.21095</td><td>24.95993</td><td>27.46196</td></tr>\n",
       "\t<tr><td>16      </td><td>26.20468</td><td>25.03817</td><td>27.37118</td></tr>\n",
       "\t<tr><td>17      </td><td>26.47891</td><td>25.28658</td><td>27.67123</td></tr>\n",
       "\t<tr><td>18      </td><td>26.72691</td><td>25.59803</td><td>27.85579</td></tr>\n",
       "\t<tr><td>19      </td><td>26.82109</td><td>25.47079</td><td>28.17140</td></tr>\n",
       "\t<tr><td>20      </td><td>26.95724</td><td>25.80891</td><td>28.10557</td></tr>\n",
       "\t<tr><td>21      </td><td>27.08324</td><td>25.90098</td><td>28.26550</td></tr>\n",
       "\t<tr><td>22      </td><td>26.99190</td><td>25.72993</td><td>28.25388</td></tr>\n",
       "\t<tr><td>23      </td><td>26.32269</td><td>25.19263</td><td>27.45275</td></tr>\n",
       "\t<tr><td>24      </td><td>26.18187</td><td>24.86213</td><td>27.50161</td></tr>\n",
       "\t<tr><td>25      </td><td>25.67674</td><td>23.95811</td><td>27.39537</td></tr>\n",
       "\t<tr><td>26      </td><td>24.72030</td><td>23.21306</td><td>26.22753</td></tr>\n",
       "\t<tr><td>27      </td><td>26.55188</td><td>25.16935</td><td>27.93442</td></tr>\n",
       "\t<tr><td>28      </td><td>26.15884</td><td>24.81657</td><td>27.50110</td></tr>\n",
       "\t<tr><td>29      </td><td>25.66762</td><td>23.91270</td><td>27.42254</td></tr>\n",
       "\t<tr><td>30      </td><td>26.78221</td><td>25.34919</td><td>28.21523</td></tr>\n",
       "\t<tr><td>31      </td><td>25.20296</td><td>23.44593</td><td>26.96000</td></tr>\n",
       "\t<tr><td>32      </td><td>25.40422</td><td>23.32916</td><td>27.47928</td></tr>\n",
       "\t<tr><td>33      </td><td>25.56328</td><td>24.09084</td><td>27.03572</td></tr>\n",
       "\t<tr><td>34      </td><td>26.25371</td><td>24.91143</td><td>27.59598</td></tr>\n",
       "\t<tr><td>35      </td><td>25.70696</td><td>24.43773</td><td>26.97619</td></tr>\n",
       "\t<tr><td>36      </td><td>25.62942</td><td>24.31561</td><td>26.94323</td></tr>\n",
       "\t<tr><td>37      </td><td>25.71722</td><td>24.32134</td><td>27.11310</td></tr>\n",
       "\t<tr><td>38      </td><td>25.25257</td><td>23.93952</td><td>26.56561</td></tr>\n",
       "\t<tr><td>39      </td><td>24.75656</td><td>23.15648</td><td>26.35663</td></tr>\n",
       "\t<tr><td>40      </td><td>25.00969</td><td>23.62642</td><td>26.39296</td></tr>\n",
       "\t<tr><td>41      </td><td>25.11345</td><td>24.00673</td><td>26.22018</td></tr>\n",
       "\t<tr><td>42      </td><td>25.26340</td><td>24.15168</td><td>26.37511</td></tr>\n",
       "\t<tr><td>43      </td><td>25.04390</td><td>23.88252</td><td>26.20528</td></tr>\n",
       "\t<tr><td>44      </td><td>24.99145</td><td>23.86341</td><td>26.11949</td></tr>\n",
       "\t<tr><td>45      </td><td>24.50000</td><td>23.07673</td><td>25.92327</td></tr>\n",
       "\t<tr><td>46      </td><td>24.49715</td><td>23.24578</td><td>25.74852</td></tr>\n",
       "\t<tr><td>47      </td><td>24.32965</td><td>23.05327</td><td>25.60603</td></tr>\n",
       "\t<tr><td>48      </td><td>24.40650</td><td>23.09605</td><td>25.71695</td></tr>\n",
       "\t<tr><td>49      </td><td>24.02737</td><td>22.72741</td><td>25.32732</td></tr>\n",
       "\t<tr><td>50      </td><td>24.73888</td><td>23.71871</td><td>25.75906</td></tr>\n",
       "\t<tr><td>51      </td><td>23.99202</td><td>22.65223</td><td>25.33180</td></tr>\n",
       "\t<tr><td>52      </td><td>24.03820</td><td>22.78081</td><td>25.29558</td></tr>\n",
       "\t<tr><td>53      </td><td>23.82212</td><td>22.69684</td><td>24.94741</td></tr>\n",
       "\t<tr><td>54      </td><td>24.03763</td><td>22.72373</td><td>25.35152</td></tr>\n",
       "\t<tr><td>55      </td><td>23.90479</td><td>22.63573</td><td>25.17384</td></tr>\n",
       "\t<tr><td>56      </td><td>24.32269</td><td>22.95707</td><td>25.68832</td></tr>\n",
       "\t<tr><td>57      </td><td>23.89453</td><td>22.65312</td><td>25.13593</td></tr>\n",
       "\t<tr><td>58      </td><td>23.69042</td><td>22.69488</td><td>24.68596</td></tr>\n",
       "\t<tr><td>59      </td><td>23.59692</td><td>22.54097</td><td>24.65287</td></tr>\n",
       "\t<tr><td>60      </td><td>24.32956</td><td>22.81960</td><td>25.83952</td></tr>\n",
       "</tbody>\n",
       "</table>\n"
      ],
      "text/latex": [
       "\\begin{tabular}{r|llll}\n",
       " year & mean\\_length & from & to\\\\\n",
       "\\hline\n",
       "\t  1       & 23.75770 & 22.04112 & 25.47428\\\\\n",
       "\t  2       & 25.41334 & 23.92273 & 26.90396\\\\\n",
       "\t  3       & 25.19270 & 23.65274 & 26.73267\\\\\n",
       "\t  4       & 24.88940 & 23.29200 & 26.48679\\\\\n",
       "\t  5       & 25.20296 & 23.80239 & 26.60354\\\\\n",
       "\t  6       & 25.14994 & 23.81802 & 26.48186\\\\\n",
       "\t  7       & 25.09350 & 23.65872 & 26.52828\\\\\n",
       "\t  8       & 25.35120 & 24.00170 & 26.70070\\\\\n",
       "\t  9       & 25.46351 & 24.12292 & 26.80410\\\\\n",
       "\t 10       & 26.15393 & 24.90898 & 27.39889\\\\\n",
       "\t 11       & 25.50114 & 24.12414 & 26.87814\\\\\n",
       "\t 12       & 25.94413 & 24.71183 & 27.17643\\\\\n",
       "\t 13       & 26.40992 & 25.17641 & 27.64343\\\\\n",
       "\t 14       & 26.12144 & 24.85665 & 27.38622\\\\\n",
       "\t 15       & 26.21095 & 24.95993 & 27.46196\\\\\n",
       "\t 16       & 26.20468 & 25.03817 & 27.37118\\\\\n",
       "\t 17       & 26.47891 & 25.28658 & 27.67123\\\\\n",
       "\t 18       & 26.72691 & 25.59803 & 27.85579\\\\\n",
       "\t 19       & 26.82109 & 25.47079 & 28.17140\\\\\n",
       "\t 20       & 26.95724 & 25.80891 & 28.10557\\\\\n",
       "\t 21       & 27.08324 & 25.90098 & 28.26550\\\\\n",
       "\t 22       & 26.99190 & 25.72993 & 28.25388\\\\\n",
       "\t 23       & 26.32269 & 25.19263 & 27.45275\\\\\n",
       "\t 24       & 26.18187 & 24.86213 & 27.50161\\\\\n",
       "\t 25       & 25.67674 & 23.95811 & 27.39537\\\\\n",
       "\t 26       & 24.72030 & 23.21306 & 26.22753\\\\\n",
       "\t 27       & 26.55188 & 25.16935 & 27.93442\\\\\n",
       "\t 28       & 26.15884 & 24.81657 & 27.50110\\\\\n",
       "\t 29       & 25.66762 & 23.91270 & 27.42254\\\\\n",
       "\t 30       & 26.78221 & 25.34919 & 28.21523\\\\\n",
       "\t 31       & 25.20296 & 23.44593 & 26.96000\\\\\n",
       "\t 32       & 25.40422 & 23.32916 & 27.47928\\\\\n",
       "\t 33       & 25.56328 & 24.09084 & 27.03572\\\\\n",
       "\t 34       & 26.25371 & 24.91143 & 27.59598\\\\\n",
       "\t 35       & 25.70696 & 24.43773 & 26.97619\\\\\n",
       "\t 36       & 25.62942 & 24.31561 & 26.94323\\\\\n",
       "\t 37       & 25.71722 & 24.32134 & 27.11310\\\\\n",
       "\t 38       & 25.25257 & 23.93952 & 26.56561\\\\\n",
       "\t 39       & 24.75656 & 23.15648 & 26.35663\\\\\n",
       "\t 40       & 25.00969 & 23.62642 & 26.39296\\\\\n",
       "\t 41       & 25.11345 & 24.00673 & 26.22018\\\\\n",
       "\t 42       & 25.26340 & 24.15168 & 26.37511\\\\\n",
       "\t 43       & 25.04390 & 23.88252 & 26.20528\\\\\n",
       "\t 44       & 24.99145 & 23.86341 & 26.11949\\\\\n",
       "\t 45       & 24.50000 & 23.07673 & 25.92327\\\\\n",
       "\t 46       & 24.49715 & 23.24578 & 25.74852\\\\\n",
       "\t 47       & 24.32965 & 23.05327 & 25.60603\\\\\n",
       "\t 48       & 24.40650 & 23.09605 & 25.71695\\\\\n",
       "\t 49       & 24.02737 & 22.72741 & 25.32732\\\\\n",
       "\t 50       & 24.73888 & 23.71871 & 25.75906\\\\\n",
       "\t 51       & 23.99202 & 22.65223 & 25.33180\\\\\n",
       "\t 52       & 24.03820 & 22.78081 & 25.29558\\\\\n",
       "\t 53       & 23.82212 & 22.69684 & 24.94741\\\\\n",
       "\t 54       & 24.03763 & 22.72373 & 25.35152\\\\\n",
       "\t 55       & 23.90479 & 22.63573 & 25.17384\\\\\n",
       "\t 56       & 24.32269 & 22.95707 & 25.68832\\\\\n",
       "\t 57       & 23.89453 & 22.65312 & 25.13593\\\\\n",
       "\t 58       & 23.69042 & 22.69488 & 24.68596\\\\\n",
       "\t 59       & 23.59692 & 22.54097 & 24.65287\\\\\n",
       "\t 60       & 24.32956 & 22.81960 & 25.83952\\\\\n",
       "\\end{tabular}\n"
      ],
      "text/markdown": [
       "\n",
       "| year | mean_length | from | to |\n",
       "|---|---|---|---|\n",
       "|  1       | 23.75770 | 22.04112 | 25.47428 |\n",
       "|  2       | 25.41334 | 23.92273 | 26.90396 |\n",
       "|  3       | 25.19270 | 23.65274 | 26.73267 |\n",
       "|  4       | 24.88940 | 23.29200 | 26.48679 |\n",
       "|  5       | 25.20296 | 23.80239 | 26.60354 |\n",
       "|  6       | 25.14994 | 23.81802 | 26.48186 |\n",
       "|  7       | 25.09350 | 23.65872 | 26.52828 |\n",
       "|  8       | 25.35120 | 24.00170 | 26.70070 |\n",
       "|  9       | 25.46351 | 24.12292 | 26.80410 |\n",
       "| 10       | 26.15393 | 24.90898 | 27.39889 |\n",
       "| 11       | 25.50114 | 24.12414 | 26.87814 |\n",
       "| 12       | 25.94413 | 24.71183 | 27.17643 |\n",
       "| 13       | 26.40992 | 25.17641 | 27.64343 |\n",
       "| 14       | 26.12144 | 24.85665 | 27.38622 |\n",
       "| 15       | 26.21095 | 24.95993 | 27.46196 |\n",
       "| 16       | 26.20468 | 25.03817 | 27.37118 |\n",
       "| 17       | 26.47891 | 25.28658 | 27.67123 |\n",
       "| 18       | 26.72691 | 25.59803 | 27.85579 |\n",
       "| 19       | 26.82109 | 25.47079 | 28.17140 |\n",
       "| 20       | 26.95724 | 25.80891 | 28.10557 |\n",
       "| 21       | 27.08324 | 25.90098 | 28.26550 |\n",
       "| 22       | 26.99190 | 25.72993 | 28.25388 |\n",
       "| 23       | 26.32269 | 25.19263 | 27.45275 |\n",
       "| 24       | 26.18187 | 24.86213 | 27.50161 |\n",
       "| 25       | 25.67674 | 23.95811 | 27.39537 |\n",
       "| 26       | 24.72030 | 23.21306 | 26.22753 |\n",
       "| 27       | 26.55188 | 25.16935 | 27.93442 |\n",
       "| 28       | 26.15884 | 24.81657 | 27.50110 |\n",
       "| 29       | 25.66762 | 23.91270 | 27.42254 |\n",
       "| 30       | 26.78221 | 25.34919 | 28.21523 |\n",
       "| 31       | 25.20296 | 23.44593 | 26.96000 |\n",
       "| 32       | 25.40422 | 23.32916 | 27.47928 |\n",
       "| 33       | 25.56328 | 24.09084 | 27.03572 |\n",
       "| 34       | 26.25371 | 24.91143 | 27.59598 |\n",
       "| 35       | 25.70696 | 24.43773 | 26.97619 |\n",
       "| 36       | 25.62942 | 24.31561 | 26.94323 |\n",
       "| 37       | 25.71722 | 24.32134 | 27.11310 |\n",
       "| 38       | 25.25257 | 23.93952 | 26.56561 |\n",
       "| 39       | 24.75656 | 23.15648 | 26.35663 |\n",
       "| 40       | 25.00969 | 23.62642 | 26.39296 |\n",
       "| 41       | 25.11345 | 24.00673 | 26.22018 |\n",
       "| 42       | 25.26340 | 24.15168 | 26.37511 |\n",
       "| 43       | 25.04390 | 23.88252 | 26.20528 |\n",
       "| 44       | 24.99145 | 23.86341 | 26.11949 |\n",
       "| 45       | 24.50000 | 23.07673 | 25.92327 |\n",
       "| 46       | 24.49715 | 23.24578 | 25.74852 |\n",
       "| 47       | 24.32965 | 23.05327 | 25.60603 |\n",
       "| 48       | 24.40650 | 23.09605 | 25.71695 |\n",
       "| 49       | 24.02737 | 22.72741 | 25.32732 |\n",
       "| 50       | 24.73888 | 23.71871 | 25.75906 |\n",
       "| 51       | 23.99202 | 22.65223 | 25.33180 |\n",
       "| 52       | 24.03820 | 22.78081 | 25.29558 |\n",
       "| 53       | 23.82212 | 22.69684 | 24.94741 |\n",
       "| 54       | 24.03763 | 22.72373 | 25.35152 |\n",
       "| 55       | 23.90479 | 22.63573 | 25.17384 |\n",
       "| 56       | 24.32269 | 22.95707 | 25.68832 |\n",
       "| 57       | 23.89453 | 22.65312 | 25.13593 |\n",
       "| 58       | 23.69042 | 22.69488 | 24.68596 |\n",
       "| 59       | 23.59692 | 22.54097 | 24.65287 |\n",
       "| 60       | 24.32956 | 22.81960 | 25.83952 |\n",
       "\n"
      ],
      "text/plain": [
       "   year mean_length from     to      \n",
       "1   1   23.75770    22.04112 25.47428\n",
       "2   2   25.41334    23.92273 26.90396\n",
       "3   3   25.19270    23.65274 26.73267\n",
       "4   4   24.88940    23.29200 26.48679\n",
       "5   5   25.20296    23.80239 26.60354\n",
       "6   6   25.14994    23.81802 26.48186\n",
       "7   7   25.09350    23.65872 26.52828\n",
       "8   8   25.35120    24.00170 26.70070\n",
       "9   9   25.46351    24.12292 26.80410\n",
       "10 10   26.15393    24.90898 27.39889\n",
       "11 11   25.50114    24.12414 26.87814\n",
       "12 12   25.94413    24.71183 27.17643\n",
       "13 13   26.40992    25.17641 27.64343\n",
       "14 14   26.12144    24.85665 27.38622\n",
       "15 15   26.21095    24.95993 27.46196\n",
       "16 16   26.20468    25.03817 27.37118\n",
       "17 17   26.47891    25.28658 27.67123\n",
       "18 18   26.72691    25.59803 27.85579\n",
       "19 19   26.82109    25.47079 28.17140\n",
       "20 20   26.95724    25.80891 28.10557\n",
       "21 21   27.08324    25.90098 28.26550\n",
       "22 22   26.99190    25.72993 28.25388\n",
       "23 23   26.32269    25.19263 27.45275\n",
       "24 24   26.18187    24.86213 27.50161\n",
       "25 25   25.67674    23.95811 27.39537\n",
       "26 26   24.72030    23.21306 26.22753\n",
       "27 27   26.55188    25.16935 27.93442\n",
       "28 28   26.15884    24.81657 27.50110\n",
       "29 29   25.66762    23.91270 27.42254\n",
       "30 30   26.78221    25.34919 28.21523\n",
       "31 31   25.20296    23.44593 26.96000\n",
       "32 32   25.40422    23.32916 27.47928\n",
       "33 33   25.56328    24.09084 27.03572\n",
       "34 34   26.25371    24.91143 27.59598\n",
       "35 35   25.70696    24.43773 26.97619\n",
       "36 36   25.62942    24.31561 26.94323\n",
       "37 37   25.71722    24.32134 27.11310\n",
       "38 38   25.25257    23.93952 26.56561\n",
       "39 39   24.75656    23.15648 26.35663\n",
       "40 40   25.00969    23.62642 26.39296\n",
       "41 41   25.11345    24.00673 26.22018\n",
       "42 42   25.26340    24.15168 26.37511\n",
       "43 43   25.04390    23.88252 26.20528\n",
       "44 44   24.99145    23.86341 26.11949\n",
       "45 45   24.50000    23.07673 25.92327\n",
       "46 46   24.49715    23.24578 25.74852\n",
       "47 47   24.32965    23.05327 25.60603\n",
       "48 48   24.40650    23.09605 25.71695\n",
       "49 49   24.02737    22.72741 25.32732\n",
       "50 50   24.73888    23.71871 25.75906\n",
       "51 51   23.99202    22.65223 25.33180\n",
       "52 52   24.03820    22.78081 25.29558\n",
       "53 53   23.82212    22.69684 24.94741\n",
       "54 54   24.03763    22.72373 25.35152\n",
       "55 55   23.90479    22.63573 25.17384\n",
       "56 56   24.32269    22.95707 25.68832\n",
       "57 57   23.89453    22.65312 25.13593\n",
       "58 58   23.69042    22.69488 24.68596\n",
       "59 59   23.59692    22.54097 24.65287\n",
       "60 60   24.32956    22.81960 25.83952"
      ]
     },
     "metadata": {},
     "output_type": "display_data"
    }
   ],
   "source": [
    "plot_data <- data_years %>% group_by(year) %>% summarize(mean_length=mean(length), from = mean(length) - sd(length), to = mean(length) + sd(length))\n",
    "plot_data"
   ]
  },
  {
   "cell_type": "code",
   "execution_count": 127,
   "metadata": {},
   "outputs": [
    {
     "data": {
      "image/png": "[encoded data removed]",
      "text/plain": [
       "plot without title"
      ]
     },
     "metadata": {},
     "output_type": "display_data"
    }
   ],
   "source": [
    "ggplot(data = plot_data, aes(x=year, y=mean_length, group=1)) +\n",
    "  geom_line(size=1, color=\"steelblue\") +\n",
    "  geom_smooth(method=\"lm\", fill=\"lightgreen\", color=\"darkgreen\") +\n",
    "  geom_ribbon(aes(ymin = from, ymax = to), alpha = 0.3, fill=\"lightblue\", color = \"transparent\") +\n",
    "  xlab(\"lata\") +\n",
    "  ylab(\"długość śledzia\") +\n",
    "  theme_minimal()\n"
   ]
  },
  {
   "cell_type": "markdown",
   "metadata": {},
   "source": [
    "Wykres jest czytelniejszy, widzimy, że długość śledzia maleje w czasie.\n",
    "\n",
    "Narysujmy macierz korelacji."
   ]
  },
  {
   "cell_type": "code",
   "execution_count": 128,
   "metadata": {},
   "outputs": [
    {
     "data": {
      "text/html": [
       "<table>\n",
       "<thead><tr><th></th><th scope=col>X</th><th scope=col>length</th><th scope=col>cfin1</th><th scope=col>cfin2</th><th scope=col>chel1</th><th scope=col>chel2</th><th scope=col>lcop1</th><th scope=col>lcop2</th><th scope=col>fbar</th><th scope=col>recr</th><th scope=col>cumf</th><th scope=col>totaln</th><th scope=col>sst</th><th scope=col>sal</th><th scope=col>xmonth</th><th scope=col>nao</th></tr></thead>\n",
       "<tbody>\n",
       "\t<tr><th scope=row>X</th><td> 1.00</td><td>-0.34</td><td>-0.15</td><td> 0.06</td><td>-0.16</td><td> 0.05</td><td>-0.22</td><td> 0.04</td><td> 0.09</td><td> 0.00</td><td> 0.23</td><td>-0.36</td><td> 0.35</td><td>-0.06</td><td> 0.00</td><td> 0.41</td></tr>\n",
       "\t<tr><th scope=row>length</th><td>-0.34</td><td> 1.00</td><td> 0.08</td><td> 0.10</td><td> 0.22</td><td>-0.01</td><td> 0.23</td><td> 0.05</td><td> 0.25</td><td>-0.01</td><td> 0.01</td><td> 0.10</td><td>-0.45</td><td> 0.03</td><td> 0.01</td><td>-0.26</td></tr>\n",
       "\t<tr><th scope=row>cfin1</th><td>-0.15</td><td> 0.08</td><td> 1.00</td><td> 0.15</td><td> 0.09</td><td> 0.19</td><td> 0.11</td><td> 0.20</td><td>-0.06</td><td> 0.11</td><td>-0.05</td><td> 0.13</td><td> 0.01</td><td> 0.13</td><td> 0.01</td><td> 0.01</td></tr>\n",
       "\t<tr><th scope=row>cfin2</th><td> 0.06</td><td> 0.10</td><td> 0.15</td><td> 1.00</td><td> 0.00</td><td> 0.30</td><td>-0.04</td><td> 0.63</td><td> 0.15</td><td>-0.10</td><td> 0.33</td><td>-0.21</td><td>-0.23</td><td>-0.08</td><td> 0.01</td><td>-0.01</td></tr>\n",
       "\t<tr><th scope=row>chel1</th><td>-0.16</td><td> 0.22</td><td> 0.09</td><td> 0.00</td><td> 1.00</td><td> 0.28</td><td> 0.93</td><td> 0.24</td><td> 0.16</td><td>-0.05</td><td> 0.07</td><td> 0.16</td><td>-0.21</td><td>-0.15</td><td> 0.05</td><td>-0.50</td></tr>\n",
       "\t<tr><th scope=row>chel2</th><td> 0.05</td><td>-0.01</td><td> 0.19</td><td> 0.30</td><td> 0.28</td><td> 1.00</td><td> 0.17</td><td> 0.86</td><td> 0.03</td><td> 0.00</td><td> 0.26</td><td>-0.37</td><td> 0.01</td><td>-0.22</td><td> 0.07</td><td>-0.06</td></tr>\n",
       "\t<tr><th scope=row>lcop1</th><td>-0.22</td><td> 0.23</td><td> 0.11</td><td>-0.04</td><td> 0.93</td><td> 0.17</td><td> 1.00</td><td> 0.14</td><td> 0.09</td><td> 0.00</td><td>-0.01</td><td> 0.26</td><td>-0.26</td><td>-0.10</td><td> 0.03</td><td>-0.54</td></tr>\n",
       "\t<tr><th scope=row>lcop2</th><td> 0.04</td><td> 0.05</td><td> 0.20</td><td> 0.63</td><td> 0.24</td><td> 0.86</td><td> 0.14</td><td> 1.00</td><td> 0.05</td><td> 0.00</td><td> 0.29</td><td>-0.30</td><td>-0.12</td><td>-0.18</td><td> 0.06</td><td>-0.04</td></tr>\n",
       "\t<tr><th scope=row>fbar</th><td> 0.09</td><td> 0.25</td><td>-0.06</td><td> 0.15</td><td> 0.16</td><td> 0.03</td><td> 0.09</td><td> 0.05</td><td> 1.00</td><td>-0.24</td><td> 0.82</td><td>-0.51</td><td>-0.18</td><td> 0.04</td><td> 0.01</td><td> 0.07</td></tr>\n",
       "\t<tr><th scope=row>recr</th><td> 0.00</td><td>-0.01</td><td> 0.11</td><td>-0.10</td><td>-0.05</td><td> 0.00</td><td> 0.00</td><td> 0.00</td><td>-0.24</td><td> 1.00</td><td>-0.26</td><td> 0.37</td><td>-0.20</td><td> 0.28</td><td> 0.02</td><td> 0.09</td></tr>\n",
       "\t<tr><th scope=row>cumf</th><td> 0.23</td><td> 0.01</td><td>-0.05</td><td> 0.33</td><td> 0.07</td><td> 0.26</td><td>-0.01</td><td> 0.29</td><td> 0.82</td><td>-0.26</td><td> 1.00</td><td>-0.71</td><td> 0.03</td><td>-0.10</td><td> 0.03</td><td> 0.23</td></tr>\n",
       "\t<tr><th scope=row>totaln</th><td>-0.36</td><td> 0.10</td><td> 0.13</td><td>-0.21</td><td> 0.16</td><td>-0.37</td><td> 0.26</td><td>-0.30</td><td>-0.51</td><td> 0.37</td><td>-0.71</td><td> 1.00</td><td>-0.28</td><td> 0.15</td><td>-0.03</td><td>-0.39</td></tr>\n",
       "\t<tr><th scope=row>sst</th><td> 0.35</td><td>-0.45</td><td> 0.01</td><td>-0.23</td><td>-0.21</td><td> 0.01</td><td>-0.26</td><td>-0.12</td><td>-0.18</td><td>-0.20</td><td> 0.03</td><td>-0.28</td><td> 1.00</td><td> 0.01</td><td>-0.01</td><td> 0.50</td></tr>\n",
       "\t<tr><th scope=row>sal</th><td>-0.06</td><td> 0.03</td><td> 0.13</td><td>-0.08</td><td>-0.15</td><td>-0.22</td><td>-0.10</td><td>-0.18</td><td> 0.04</td><td> 0.28</td><td>-0.10</td><td> 0.15</td><td> 0.01</td><td> 1.00</td><td>-0.02</td><td> 0.13</td></tr>\n",
       "\t<tr><th scope=row>xmonth</th><td> 0.00</td><td> 0.01</td><td> 0.01</td><td> 0.01</td><td> 0.05</td><td> 0.07</td><td> 0.03</td><td> 0.06</td><td> 0.01</td><td> 0.02</td><td> 0.03</td><td>-0.03</td><td>-0.01</td><td>-0.02</td><td> 1.00</td><td> 0.00</td></tr>\n",
       "\t<tr><th scope=row>nao</th><td> 0.41</td><td>-0.26</td><td> 0.01</td><td>-0.01</td><td>-0.50</td><td>-0.06</td><td>-0.54</td><td>-0.04</td><td> 0.07</td><td> 0.09</td><td> 0.23</td><td>-0.39</td><td> 0.50</td><td> 0.13</td><td> 0.00</td><td> 1.00</td></tr>\n",
       "</tbody>\n",
       "</table>\n"
      ],
      "text/latex": [
       "\\begin{tabular}{r|llllllllllllllll}\n",
       "  & X & length & cfin1 & cfin2 & chel1 & chel2 & lcop1 & lcop2 & fbar & recr & cumf & totaln & sst & sal & xmonth & nao\\\\\n",
       "\\hline\n",
       "\tX &  1.00 & -0.34 & -0.15 &  0.06 & -0.16 &  0.05 & -0.22 &  0.04 &  0.09 &  0.00 &  0.23 & -0.36 &  0.35 & -0.06 &  0.00 &  0.41\\\\\n",
       "\tlength & -0.34 &  1.00 &  0.08 &  0.10 &  0.22 & -0.01 &  0.23 &  0.05 &  0.25 & -0.01 &  0.01 &  0.10 & -0.45 &  0.03 &  0.01 & -0.26\\\\\n",
       "\tcfin1 & -0.15 &  0.08 &  1.00 &  0.15 &  0.09 &  0.19 &  0.11 &  0.20 & -0.06 &  0.11 & -0.05 &  0.13 &  0.01 &  0.13 &  0.01 &  0.01\\\\\n",
       "\tcfin2 &  0.06 &  0.10 &  0.15 &  1.00 &  0.00 &  0.30 & -0.04 &  0.63 &  0.15 & -0.10 &  0.33 & -0.21 & -0.23 & -0.08 &  0.01 & -0.01\\\\\n",
       "\tchel1 & -0.16 &  0.22 &  0.09 &  0.00 &  1.00 &  0.28 &  0.93 &  0.24 &  0.16 & -0.05 &  0.07 &  0.16 & -0.21 & -0.15 &  0.05 & -0.50\\\\\n",
       "\tchel2 &  0.05 & -0.01 &  0.19 &  0.30 &  0.28 &  1.00 &  0.17 &  0.86 &  0.03 &  0.00 &  0.26 & -0.37 &  0.01 & -0.22 &  0.07 & -0.06\\\\\n",
       "\tlcop1 & -0.22 &  0.23 &  0.11 & -0.04 &  0.93 &  0.17 &  1.00 &  0.14 &  0.09 &  0.00 & -0.01 &  0.26 & -0.26 & -0.10 &  0.03 & -0.54\\\\\n",
       "\tlcop2 &  0.04 &  0.05 &  0.20 &  0.63 &  0.24 &  0.86 &  0.14 &  1.00 &  0.05 &  0.00 &  0.29 & -0.30 & -0.12 & -0.18 &  0.06 & -0.04\\\\\n",
       "\tfbar &  0.09 &  0.25 & -0.06 &  0.15 &  0.16 &  0.03 &  0.09 &  0.05 &  1.00 & -0.24 &  0.82 & -0.51 & -0.18 &  0.04 &  0.01 &  0.07\\\\\n",
       "\trecr &  0.00 & -0.01 &  0.11 & -0.10 & -0.05 &  0.00 &  0.00 &  0.00 & -0.24 &  1.00 & -0.26 &  0.37 & -0.20 &  0.28 &  0.02 &  0.09\\\\\n",
       "\tcumf &  0.23 &  0.01 & -0.05 &  0.33 &  0.07 &  0.26 & -0.01 &  0.29 &  0.82 & -0.26 &  1.00 & -0.71 &  0.03 & -0.10 &  0.03 &  0.23\\\\\n",
       "\ttotaln & -0.36 &  0.10 &  0.13 & -0.21 &  0.16 & -0.37 &  0.26 & -0.30 & -0.51 &  0.37 & -0.71 &  1.00 & -0.28 &  0.15 & -0.03 & -0.39\\\\\n",
       "\tsst &  0.35 & -0.45 &  0.01 & -0.23 & -0.21 &  0.01 & -0.26 & -0.12 & -0.18 & -0.20 &  0.03 & -0.28 &  1.00 &  0.01 & -0.01 &  0.50\\\\\n",
       "\tsal & -0.06 &  0.03 &  0.13 & -0.08 & -0.15 & -0.22 & -0.10 & -0.18 &  0.04 &  0.28 & -0.10 &  0.15 &  0.01 &  1.00 & -0.02 &  0.13\\\\\n",
       "\txmonth &  0.00 &  0.01 &  0.01 &  0.01 &  0.05 &  0.07 &  0.03 &  0.06 &  0.01 &  0.02 &  0.03 & -0.03 & -0.01 & -0.02 &  1.00 &  0.00\\\\\n",
       "\tnao &  0.41 & -0.26 &  0.01 & -0.01 & -0.50 & -0.06 & -0.54 & -0.04 &  0.07 &  0.09 &  0.23 & -0.39 &  0.50 &  0.13 &  0.00 &  1.00\\\\\n",
       "\\end{tabular}\n"
      ],
      "text/markdown": [
       "\n",
       "| <!--/--> | X | length | cfin1 | cfin2 | chel1 | chel2 | lcop1 | lcop2 | fbar | recr | cumf | totaln | sst | sal | xmonth | nao |\n",
       "|---|---|---|---|---|---|---|---|---|---|---|---|---|---|---|---|---|\n",
       "| X |  1.00 | -0.34 | -0.15 |  0.06 | -0.16 |  0.05 | -0.22 |  0.04 |  0.09 |  0.00 |  0.23 | -0.36 |  0.35 | -0.06 |  0.00 |  0.41 |\n",
       "| length | -0.34 |  1.00 |  0.08 |  0.10 |  0.22 | -0.01 |  0.23 |  0.05 |  0.25 | -0.01 |  0.01 |  0.10 | -0.45 |  0.03 |  0.01 | -0.26 |\n",
       "| cfin1 | -0.15 |  0.08 |  1.00 |  0.15 |  0.09 |  0.19 |  0.11 |  0.20 | -0.06 |  0.11 | -0.05 |  0.13 |  0.01 |  0.13 |  0.01 |  0.01 |\n",
       "| cfin2 |  0.06 |  0.10 |  0.15 |  1.00 |  0.00 |  0.30 | -0.04 |  0.63 |  0.15 | -0.10 |  0.33 | -0.21 | -0.23 | -0.08 |  0.01 | -0.01 |\n",
       "| chel1 | -0.16 |  0.22 |  0.09 |  0.00 |  1.00 |  0.28 |  0.93 |  0.24 |  0.16 | -0.05 |  0.07 |  0.16 | -0.21 | -0.15 |  0.05 | -0.50 |\n",
       "| chel2 |  0.05 | -0.01 |  0.19 |  0.30 |  0.28 |  1.00 |  0.17 |  0.86 |  0.03 |  0.00 |  0.26 | -0.37 |  0.01 | -0.22 |  0.07 | -0.06 |\n",
       "| lcop1 | -0.22 |  0.23 |  0.11 | -0.04 |  0.93 |  0.17 |  1.00 |  0.14 |  0.09 |  0.00 | -0.01 |  0.26 | -0.26 | -0.10 |  0.03 | -0.54 |\n",
       "| lcop2 |  0.04 |  0.05 |  0.20 |  0.63 |  0.24 |  0.86 |  0.14 |  1.00 |  0.05 |  0.00 |  0.29 | -0.30 | -0.12 | -0.18 |  0.06 | -0.04 |\n",
       "| fbar |  0.09 |  0.25 | -0.06 |  0.15 |  0.16 |  0.03 |  0.09 |  0.05 |  1.00 | -0.24 |  0.82 | -0.51 | -0.18 |  0.04 |  0.01 |  0.07 |\n",
       "| recr |  0.00 | -0.01 |  0.11 | -0.10 | -0.05 |  0.00 |  0.00 |  0.00 | -0.24 |  1.00 | -0.26 |  0.37 | -0.20 |  0.28 |  0.02 |  0.09 |\n",
       "| cumf |  0.23 |  0.01 | -0.05 |  0.33 |  0.07 |  0.26 | -0.01 |  0.29 |  0.82 | -0.26 |  1.00 | -0.71 |  0.03 | -0.10 |  0.03 |  0.23 |\n",
       "| totaln | -0.36 |  0.10 |  0.13 | -0.21 |  0.16 | -0.37 |  0.26 | -0.30 | -0.51 |  0.37 | -0.71 |  1.00 | -0.28 |  0.15 | -0.03 | -0.39 |\n",
       "| sst |  0.35 | -0.45 |  0.01 | -0.23 | -0.21 |  0.01 | -0.26 | -0.12 | -0.18 | -0.20 |  0.03 | -0.28 |  1.00 |  0.01 | -0.01 |  0.50 |\n",
       "| sal | -0.06 |  0.03 |  0.13 | -0.08 | -0.15 | -0.22 | -0.10 | -0.18 |  0.04 |  0.28 | -0.10 |  0.15 |  0.01 |  1.00 | -0.02 |  0.13 |\n",
       "| xmonth |  0.00 |  0.01 |  0.01 |  0.01 |  0.05 |  0.07 |  0.03 |  0.06 |  0.01 |  0.02 |  0.03 | -0.03 | -0.01 | -0.02 |  1.00 |  0.00 |\n",
       "| nao |  0.41 | -0.26 |  0.01 | -0.01 | -0.50 | -0.06 | -0.54 | -0.04 |  0.07 |  0.09 |  0.23 | -0.39 |  0.50 |  0.13 |  0.00 |  1.00 |\n",
       "\n"
      ],
      "text/plain": [
       "       X     length cfin1 cfin2 chel1 chel2 lcop1 lcop2 fbar  recr  cumf \n",
       "X       1.00 -0.34  -0.15  0.06 -0.16  0.05 -0.22  0.04  0.09  0.00  0.23\n",
       "length -0.34  1.00   0.08  0.10  0.22 -0.01  0.23  0.05  0.25 -0.01  0.01\n",
       "cfin1  -0.15  0.08   1.00  0.15  0.09  0.19  0.11  0.20 -0.06  0.11 -0.05\n",
       "cfin2   0.06  0.10   0.15  1.00  0.00  0.30 -0.04  0.63  0.15 -0.10  0.33\n",
       "chel1  -0.16  0.22   0.09  0.00  1.00  0.28  0.93  0.24  0.16 -0.05  0.07\n",
       "chel2   0.05 -0.01   0.19  0.30  0.28  1.00  0.17  0.86  0.03  0.00  0.26\n",
       "lcop1  -0.22  0.23   0.11 -0.04  0.93  0.17  1.00  0.14  0.09  0.00 -0.01\n",
       "lcop2   0.04  0.05   0.20  0.63  0.24  0.86  0.14  1.00  0.05  0.00  0.29\n",
       "fbar    0.09  0.25  -0.06  0.15  0.16  0.03  0.09  0.05  1.00 -0.24  0.82\n",
       "recr    0.00 -0.01   0.11 -0.10 -0.05  0.00  0.00  0.00 -0.24  1.00 -0.26\n",
       "cumf    0.23  0.01  -0.05  0.33  0.07  0.26 -0.01  0.29  0.82 -0.26  1.00\n",
       "totaln -0.36  0.10   0.13 -0.21  0.16 -0.37  0.26 -0.30 -0.51  0.37 -0.71\n",
       "sst     0.35 -0.45   0.01 -0.23 -0.21  0.01 -0.26 -0.12 -0.18 -0.20  0.03\n",
       "sal    -0.06  0.03   0.13 -0.08 -0.15 -0.22 -0.10 -0.18  0.04  0.28 -0.10\n",
       "xmonth  0.00  0.01   0.01  0.01  0.05  0.07  0.03  0.06  0.01  0.02  0.03\n",
       "nao     0.41 -0.26   0.01 -0.01 -0.50 -0.06 -0.54 -0.04  0.07  0.09  0.23\n",
       "       totaln sst   sal   xmonth nao  \n",
       "X      -0.36   0.35 -0.06  0.00   0.41\n",
       "length  0.10  -0.45  0.03  0.01  -0.26\n",
       "cfin1   0.13   0.01  0.13  0.01   0.01\n",
       "cfin2  -0.21  -0.23 -0.08  0.01  -0.01\n",
       "chel1   0.16  -0.21 -0.15  0.05  -0.50\n",
       "chel2  -0.37   0.01 -0.22  0.07  -0.06\n",
       "lcop1   0.26  -0.26 -0.10  0.03  -0.54\n",
       "lcop2  -0.30  -0.12 -0.18  0.06  -0.04\n",
       "fbar   -0.51  -0.18  0.04  0.01   0.07\n",
       "recr    0.37  -0.20  0.28  0.02   0.09\n",
       "cumf   -0.71   0.03 -0.10  0.03   0.23\n",
       "totaln  1.00  -0.28  0.15 -0.03  -0.39\n",
       "sst    -0.28   1.00  0.01 -0.01   0.50\n",
       "sal     0.15   0.01  1.00 -0.02   0.13\n",
       "xmonth -0.03  -0.01 -0.02  1.00   0.00\n",
       "nao    -0.39   0.50  0.13  0.00   1.00"
      ]
     },
     "metadata": {},
     "output_type": "display_data"
    }
   ],
   "source": [
    "cormat <- round(cor(data), 2)\n",
    "cormat"
   ]
  },
  {
   "cell_type": "code",
   "execution_count": 129,
   "metadata": {},
   "outputs": [
    {
     "data": {
      "text/html": [
       "<table>\n",
       "<thead><tr><th scope=col>Var1</th><th scope=col>Var2</th><th scope=col>value</th></tr></thead>\n",
       "<tbody>\n",
       "\t<tr><td>X     </td><td>X     </td><td> 1.00 </td></tr>\n",
       "\t<tr><td>length</td><td>X     </td><td>-0.34 </td></tr>\n",
       "\t<tr><td>cfin1 </td><td>X     </td><td>-0.15 </td></tr>\n",
       "\t<tr><td>cfin2 </td><td>X     </td><td> 0.06 </td></tr>\n",
       "\t<tr><td>chel1 </td><td>X     </td><td>-0.16 </td></tr>\n",
       "\t<tr><td>chel2 </td><td>X     </td><td> 0.05 </td></tr>\n",
       "</tbody>\n",
       "</table>\n"
      ],
      "text/latex": [
       "\\begin{tabular}{r|lll}\n",
       " Var1 & Var2 & value\\\\\n",
       "\\hline\n",
       "\t X      & X      &  1.00 \\\\\n",
       "\t length & X      & -0.34 \\\\\n",
       "\t cfin1  & X      & -0.15 \\\\\n",
       "\t cfin2  & X      &  0.06 \\\\\n",
       "\t chel1  & X      & -0.16 \\\\\n",
       "\t chel2  & X      &  0.05 \\\\\n",
       "\\end{tabular}\n"
      ],
      "text/markdown": [
       "\n",
       "| Var1 | Var2 | value |\n",
       "|---|---|---|\n",
       "| X      | X      |  1.00  |\n",
       "| length | X      | -0.34  |\n",
       "| cfin1  | X      | -0.15  |\n",
       "| cfin2  | X      |  0.06  |\n",
       "| chel1  | X      | -0.16  |\n",
       "| chel2  | X      |  0.05  |\n",
       "\n"
      ],
      "text/plain": [
       "  Var1   Var2 value\n",
       "1 X      X     1.00\n",
       "2 length X    -0.34\n",
       "3 cfin1  X    -0.15\n",
       "4 cfin2  X     0.06\n",
       "5 chel1  X    -0.16\n",
       "6 chel2  X     0.05"
      ]
     },
     "metadata": {},
     "output_type": "display_data"
    }
   ],
   "source": [
    "melted_cormat <- melt(cormat)\n",
    "head(melted_cormat)"
   ]
  },
  {
   "cell_type": "code",
   "execution_count": 130,
   "metadata": {},
   "outputs": [],
   "source": [
    "  get_upper_tri <- function(cormat){\n",
    "    cormat[lower.tri(cormat)]<- NA\n",
    "    return(cormat)\n",
    "  }\n",
    "\n",
    "upper_tri <- get_upper_tri(cormat)"
   ]
  },
  {
   "cell_type": "code",
   "execution_count": 131,
   "metadata": {},
   "outputs": [],
   "source": [
    "melted_cormat <- melt(upper_tri, na.rm = TRUE)"
   ]
  },
  {
   "cell_type": "code",
   "execution_count": 132,
   "metadata": {},
   "outputs": [],
   "source": [
    "ggheatmap <- ggplot(data = melted_cormat, aes(Var2, Var1, fill = value))+\n",
    " geom_tile(color = \"white\")+\n",
    " scale_fill_gradient2(low = \"blue\", high = \"red\", mid = \"white\", \n",
    "   midpoint = 0, limit = c(-1,1), space = \"Lab\", \n",
    "   name=\"Pearson\\nCorrelation\") +\n",
    "  theme_minimal()+ \n",
    "  theme(axis.text.x = element_text(angle = 45, vjust = 1, \n",
    "    size = 12, hjust = 1))+\n",
    "  coord_fixed()\n"
   ]
  },
  {
   "cell_type": "code",
   "execution_count": 133,
   "metadata": {},
   "outputs": [
    {
     "data": {
      "image/png": "[encoded data removed]",
      "text/plain": [
       "plot without title"
      ]
     },
     "metadata": {},
     "output_type": "display_data"
    }
   ],
   "source": [
    "ggheatmap + \n",
    "geom_text(aes(Var2, Var1, label = value), color = \"black\", size = 2.5) +\n",
    "theme(\n",
    "  axis.title.x = element_blank(),\n",
    "  axis.title.y = element_blank(),\n",
    "  panel.grid.major = element_blank(),\n",
    "  panel.border = element_blank(),\n",
    "  panel.background = element_blank(),\n",
    "  axis.ticks = element_blank(),\n",
    "  legend.justification = c(1, 0),\n",
    "  legend.position = c(0.6, 0.7),\n",
    "  legend.direction = \"horizontal\")+\n",
    "  guides(fill = guide_colorbar(barwidth = 7, barheight = 1,\n",
    "                title.position = \"top\", title.hjust = 0.5))"
   ]
  },
  {
   "cell_type": "markdown",
   "metadata": {},
   "source": [
    "Widzimy, że zmienne lcop1 (zagęszczenie widłonogów gat. 1) i chel1(zagęszczenie Calanus helgolandicus gat. 1) są bardzo mocno ze sobą skorelowane, więc jedną z nich można potencjalnie usunąć ze względu na redundancję. Podobnie lcop2 i chel2.\n",
    "\n",
    "Duży współczynnik korelacji mają także cumf i fbar (obie zmienne opisują ułamek pozostawionego narybku). Cumf i length są praktycznie w ogóle nieskorelowane, dlatego decydujemy się usunąć cumf (jej wpływ na length jest prawie zerowy, więc można ją bezpiecznie usunąć)."
   ]
  },
  {
   "cell_type": "code",
   "execution_count": 134,
   "metadata": {},
   "outputs": [],
   "source": [
    "data_reduced <- select(data, -c(chel1, chel2, cumf, X))"
   ]
  },
  {
   "cell_type": "markdown",
   "metadata": {},
   "source": [
    "Ostatnim krokiem w tej sekcji będzie dokonanie analizy głównych składowych (PCA).\n",
    "Ma to na celu zbadanie istotności cech."
   ]
  },
  {
   "cell_type": "code",
   "execution_count": 135,
   "metadata": {},
   "outputs": [
    {
     "data": {
      "text/plain": [
       "Importance of components:\n",
       "                          PC1    PC2    PC3     PC4     PC5     PC6     PC7\n",
       "Standard deviation     1.8063 1.7766 1.3505 1.22974 1.09650 1.00144 0.97763\n",
       "Proportion of Variance 0.2039 0.1973 0.1140 0.09452 0.07514 0.06268 0.05974\n",
       "Cumulative Proportion  0.2039 0.4012 0.5152 0.60970 0.68485 0.74753 0.80726\n",
       "                           PC8     PC9    PC10    PC11    PC12    PC13   PC14\n",
       "Standard deviation     0.84486 0.81709 0.76491 0.67350 0.50501 0.45164 0.3047\n",
       "Proportion of Variance 0.04461 0.04173 0.03657 0.02835 0.01594 0.01275 0.0058\n",
       "Cumulative Proportion  0.85187 0.89360 0.93017 0.95852 0.97446 0.98721 0.9930\n",
       "                          PC15    PC16\n",
       "Standard deviation     0.24523 0.22735\n",
       "Proportion of Variance 0.00376 0.00323\n",
       "Cumulative Proportion  0.99677 1.00000"
      ]
     },
     "metadata": {},
     "output_type": "display_data"
    }
   ],
   "source": [
    "pca <- prcomp(data, center = TRUE,scale. = TRUE)\n",
    "\n",
    "summary(pca)"
   ]
  },
  {
   "cell_type": "code",
   "execution_count": 136,
   "metadata": {},
   "outputs": [
    {
     "data": {
      "text/html": [
       "<table>\n",
       "<thead><tr><th scope=col>sum_variance</th><th scope=col>n</th></tr></thead>\n",
       "<tbody>\n",
       "\t<tr><td>0.2039268</td><td> 1       </td></tr>\n",
       "\t<tr><td>0.4011992</td><td> 2       </td></tr>\n",
       "\t<tr><td>0.5151849</td><td> 3       </td></tr>\n",
       "\t<tr><td>0.6097017</td><td> 4       </td></tr>\n",
       "\t<tr><td>0.6848462</td><td> 5       </td></tr>\n",
       "\t<tr><td>0.7475263</td><td> 6       </td></tr>\n",
       "\t<tr><td>0.8072615</td><td> 7       </td></tr>\n",
       "\t<tr><td>0.8518735</td><td> 8       </td></tr>\n",
       "\t<tr><td>0.8936010</td><td> 9       </td></tr>\n",
       "\t<tr><td>0.9301691</td><td>10       </td></tr>\n",
       "\t<tr><td>0.9585190</td><td>11       </td></tr>\n",
       "\t<tr><td>0.9744588</td><td>12       </td></tr>\n",
       "\t<tr><td>0.9872074</td><td>13       </td></tr>\n",
       "\t<tr><td>0.9930111</td><td>14       </td></tr>\n",
       "\t<tr><td>0.9967696</td><td>15       </td></tr>\n",
       "\t<tr><td>1.0000000</td><td>16       </td></tr>\n",
       "</tbody>\n",
       "</table>\n"
      ],
      "text/latex": [
       "\\begin{tabular}{r|ll}\n",
       " sum\\_variance & n\\\\\n",
       "\\hline\n",
       "\t 0.2039268 &  1       \\\\\n",
       "\t 0.4011992 &  2       \\\\\n",
       "\t 0.5151849 &  3       \\\\\n",
       "\t 0.6097017 &  4       \\\\\n",
       "\t 0.6848462 &  5       \\\\\n",
       "\t 0.7475263 &  6       \\\\\n",
       "\t 0.8072615 &  7       \\\\\n",
       "\t 0.8518735 &  8       \\\\\n",
       "\t 0.8936010 &  9       \\\\\n",
       "\t 0.9301691 & 10       \\\\\n",
       "\t 0.9585190 & 11       \\\\\n",
       "\t 0.9744588 & 12       \\\\\n",
       "\t 0.9872074 & 13       \\\\\n",
       "\t 0.9930111 & 14       \\\\\n",
       "\t 0.9967696 & 15       \\\\\n",
       "\t 1.0000000 & 16       \\\\\n",
       "\\end{tabular}\n"
      ],
      "text/markdown": [
       "\n",
       "| sum_variance | n |\n",
       "|---|---|\n",
       "| 0.2039268 |  1        |\n",
       "| 0.4011992 |  2        |\n",
       "| 0.5151849 |  3        |\n",
       "| 0.6097017 |  4        |\n",
       "| 0.6848462 |  5        |\n",
       "| 0.7475263 |  6        |\n",
       "| 0.8072615 |  7        |\n",
       "| 0.8518735 |  8        |\n",
       "| 0.8936010 |  9        |\n",
       "| 0.9301691 | 10        |\n",
       "| 0.9585190 | 11        |\n",
       "| 0.9744588 | 12        |\n",
       "| 0.9872074 | 13        |\n",
       "| 0.9930111 | 14        |\n",
       "| 0.9967696 | 15        |\n",
       "| 1.0000000 | 16        |\n",
       "\n"
      ],
      "text/plain": [
       "   sum_variance n \n",
       "1  0.2039268     1\n",
       "2  0.4011992     2\n",
       "3  0.5151849     3\n",
       "4  0.6097017     4\n",
       "5  0.6848462     5\n",
       "6  0.7475263     6\n",
       "7  0.8072615     7\n",
       "8  0.8518735     8\n",
       "9  0.8936010     9\n",
       "10 0.9301691    10\n",
       "11 0.9585190    11\n",
       "12 0.9744588    12\n",
       "13 0.9872074    13\n",
       "14 0.9930111    14\n",
       "15 0.9967696    15\n",
       "16 1.0000000    16"
      ]
     },
     "metadata": {},
     "output_type": "display_data"
    }
   ],
   "source": [
    "sum_variance <- cumsum(pca$sdev^2 / sum(pca$sdev^2))\n",
    "df <- data.frame(sum_variance = sum_variance,\n",
    "                n=1:length(sum_variance))\n",
    "df"
   ]
  },
  {
   "cell_type": "code",
   "execution_count": 137,
   "metadata": {},
   "outputs": [
    {
     "data": {
      "image/png": "[encoded data removed]",
      "text/plain": [
       "plot without title"
      ]
     },
     "metadata": {},
     "output_type": "display_data"
    }
   ],
   "source": [
    "ggplot(data=df, aes(x=n, y=sum_variance)) +\n",
    "  geom_bar(stat=\"identity\", fill=\"steelblue\")+\n",
    "  theme_minimal() +\n",
    "  xlab(\"n\") +\n",
    "  ylab(\"% wyjaśnianej wariancji\") "
   ]
  },
  {
   "cell_type": "markdown",
   "metadata": {},
   "source": [
    "Na wykresie przedstawiono skumulowaną sumę wyjaśnianej wariancji dla pierwszych n głównych składowych.\n",
    "\n",
    "Procent wyjaśnianej waraiancji gwałtownie rośnie dla pierwszych kilku n, a nasyca się w okolicach n = 11,\n",
    "skąd można wysnuć wniosek, że nie wszystkie cechy są istotne i można zmniejszyć wymiarowość problemu."
   ]
  },
  {
   "cell_type": "markdown",
   "metadata": {},
   "source": [
    "## 8. Interaktywny wykres lub animacja prezentującą zmianę rozmiaru śledzi w czasie."
   ]
  },
  {
   "cell_type": "markdown",
   "metadata": {},
   "source": [
    "# *WYKRES STWORZONO PRZY UŻYCIU SHINY I ZNAJDUJE SIĘ W OSOBNYCH PLIKACH (SERVER I UI).*"
   ]
  },
  {
   "cell_type": "markdown",
   "metadata": {},
   "source": [
    "## 9. Sekcja próbującą stworzyć regresor przewidujący rozmiar śledzia; dobór parametrów modelu oraz oszacowanie jego skuteczności powinny zostać wykonane za pomocą techniki podziału zbioru na dane uczące, walidujące i testowe; trafność regresji powinna zostać oszacowana na podstawie miar *R2* i *RMSE*."
   ]
  },
  {
   "cell_type": "markdown",
   "metadata": {},
   "source": [
    "Przypomijmy, że w wyniku analizy korelacji zdecydowaliśmy się na usunięcie zmiennych chel1, chel2, cumf, X ze względu na to, że przedstawia numer wiersza także decydujemy się usunąć."
   ]
  },
  {
   "cell_type": "code",
   "execution_count": 138,
   "metadata": {},
   "outputs": [],
   "source": [
    "data_reduced <- select(data, -c(chel1, chel2, cumf, X))"
   ]
  },
  {
   "cell_type": "markdown",
   "metadata": {},
   "source": [
    "Przeprowadzamy podział na zbiory treningowy (do nauki), walidacyjny (do walidacji najlepszych parametrów) i testowy (na którym zdecydujemy się przetestować najlepszy algorytm)."
   ]
  },
  {
   "cell_type": "code",
   "execution_count": 139,
   "metadata": {},
   "outputs": [],
   "source": [
    "inTrainingValidAll <- \n",
    "    createDataPartition(\n",
    "        y = data_reduced$length,\n",
    "        p = .8,\n",
    "        list = FALSE)"
   ]
  },
  {
   "cell_type": "code",
   "execution_count": 140,
   "metadata": {},
   "outputs": [],
   "source": [
    "training_valid_all <- data_reduced[ inTrainingValidAll,]\n",
    "testing  <- data_reduced[-inTrainingValidAll,]"
   ]
  },
  {
   "cell_type": "code",
   "execution_count": 141,
   "metadata": {},
   "outputs": [],
   "source": [
    "inTraining <- \n",
    "    createDataPartition(\n",
    "        y = training_valid_all$length,\n",
    "        p = .8,\n",
    "        list = FALSE)"
   ]
  },
  {
   "cell_type": "code",
   "execution_count": 142,
   "metadata": {},
   "outputs": [],
   "source": [
    "training <- training_valid_all[ inTraining,]\n",
    "validating  <- training_valid_all[-inTraining,]"
   ]
  },
  {
   "cell_type": "code",
   "execution_count": 143,
   "metadata": {},
   "outputs": [
    {
     "name": "stdout",
     "output_type": "stream",
     "text": [
      "[1] 33655\n",
      "[1] 8412\n",
      "[1] 10515\n",
      "[1] 52582\n"
     ]
    }
   ],
   "source": [
    "print(nrow(training))\n",
    "print(nrow(validating))\n",
    "print(nrow(testing))\n",
    "print(nrow(data))"
   ]
  },
  {
   "cell_type": "code",
   "execution_count": 144,
   "metadata": {},
   "outputs": [
    {
     "data": {
      "image/png": "[encoded data removed]",
      "text/plain": [
       "plot without title"
      ]
     },
     "metadata": {},
     "output_type": "display_data"
    }
   ],
   "source": [
    "ggplot(mapping=aes(alpha=0.4)) + \n",
    " geom_density(aes(training$length, fill=\"zbiór treningowy\"), training) + \n",
    " geom_density(aes(validating$length, fill=\"zbiór walidacyjny\"), validating) + \n",
    " geom_density(aes(testing$length, fill=\"zbiór testowy\"), testing) + \n",
    " theme_minimal() +\n",
    "  xlab(\"Długość śledzia\") +\n",
    "  ylab(\"Gęstość prawdopodobieństwa\") "
   ]
  },
  {
   "cell_type": "markdown",
   "metadata": {},
   "source": [
    "Widzimy, że próbkowanie zbioru danych nastąpiło poprawnie, w każdym typie zbioru występuje podobny rozkład zmiennej wyjściowej."
   ]
  },
  {
   "cell_type": "code",
   "execution_count": 145,
   "metadata": {},
   "outputs": [
    {
     "data": {
      "text/plain": [
       "Linear Regression \n",
       "\n",
       "33655 samples\n",
       "   11 predictor\n",
       "\n",
       "No pre-processing\n",
       "Resampling: Bootstrapped (25 reps) \n",
       "Summary of sample sizes: 33655, 33655, 33655, 33655, 33655, 33655, ... \n",
       "Resampling results:\n",
       "\n",
       "  RMSE      Rsquared  MAE     \n",
       "  1.422033  0.265067  1.132041\n",
       "\n",
       "Tuning parameter 'intercept' was held constant at a value of TRUE"
      ]
     },
     "metadata": {},
     "output_type": "display_data"
    }
   ],
   "source": [
    "basic_model <- train(length ~ .,\n",
    "               data = training,\n",
    "               method = \"lm\")\n",
    "basic_model"
   ]
  },
  {
   "cell_type": "markdown",
   "metadata": {},
   "source": [
    "Rozszerzmy model o powtarzaną kroswalidację."
   ]
  },
  {
   "cell_type": "code",
   "execution_count": 146,
   "metadata": {},
   "outputs": [],
   "source": [
    "ctrl <- trainControl(\n",
    "    # powtórzona ocena krzyżowa\n",
    "    method = \"repeatedcv\",\n",
    "    # liczba podziałów\n",
    "    number = 5,\n",
    "    # liczba powtórzeń\n",
    "    repeats = 3)"
   ]
  },
  {
   "cell_type": "code",
   "execution_count": 147,
   "metadata": {},
   "outputs": [
    {
     "data": {
      "text/plain": [
       "Linear Regression \n",
       "\n",
       "33655 samples\n",
       "   11 predictor\n",
       "\n",
       "No pre-processing\n",
       "Resampling: Cross-Validated (5 fold, repeated 3 times) \n",
       "Summary of sample sizes: 26923, 26924, 26925, 26924, 26924, 26924, ... \n",
       "Resampling results:\n",
       "\n",
       "  RMSE      Rsquared   MAE     \n",
       "  1.424091  0.2637254  1.133492\n",
       "\n",
       "Tuning parameter 'intercept' was held constant at a value of TRUE"
      ]
     },
     "metadata": {},
     "output_type": "display_data"
    }
   ],
   "source": [
    "model <- train(length ~ .,\n",
    "               data = training,\n",
    "               trControl = ctrl,\n",
    "               method = \"lm\")\n",
    "model"
   ]
  },
  {
   "cell_type": "code",
   "execution_count": 148,
   "metadata": {},
   "outputs": [
    {
     "data": {
      "image/png": "[encoded data removed]",
      "text/plain": [
       "plot without title"
      ]
     },
     "metadata": {},
     "output_type": "display_data"
    }
   ],
   "source": [
    "ggplot(varImp(model))"
   ]
  },
  {
   "cell_type": "code",
   "execution_count": 149,
   "metadata": {},
   "outputs": [],
   "source": [
    "preprocessed_model <- train(length ~ .,\n",
    "               data = training,\n",
    "               trControl = ctrl,\n",
    "               preProcess = c('scale', 'center'),\n",
    "               method = \"lm\")"
   ]
  },
  {
   "cell_type": "code",
   "execution_count": 150,
   "metadata": {},
   "outputs": [
    {
     "data": {
      "text/plain": [
       "Linear Regression \n",
       "\n",
       "33655 samples\n",
       "   11 predictor\n",
       "\n",
       "Pre-processing: scaled (11), centered (11) \n",
       "Resampling: Cross-Validated (5 fold, repeated 3 times) \n",
       "Summary of sample sizes: 26923, 26924, 26924, 26924, 26925, 26924, ... \n",
       "Resampling results:\n",
       "\n",
       "  RMSE      Rsquared   MAE     \n",
       "  1.424087  0.2637934  1.133478\n",
       "\n",
       "Tuning parameter 'intercept' was held constant at a value of TRUE"
      ]
     },
     "metadata": {},
     "output_type": "display_data"
    }
   ],
   "source": [
    "preprocessed_model"
   ]
  },
  {
   "cell_type": "markdown",
   "metadata": {},
   "source": [
    "Preprocessing danych (skalowanie i centrowanie) niewiele pomogły. Spróbujmy innych rodzajów regresji."
   ]
  },
  {
   "cell_type": "code",
   "execution_count": 151,
   "metadata": {},
   "outputs": [],
   "source": [
    "lasso_model <- train(length ~ .,\n",
    "               data = training,\n",
    "               trControl = ctrl,\n",
    "               preProcess = c('scale', 'center'),\n",
    "               method = \"lasso\")"
   ]
  },
  {
   "cell_type": "code",
   "execution_count": 152,
   "metadata": {},
   "outputs": [
    {
     "data": {
      "text/plain": [
       "The lasso \n",
       "\n",
       "33655 samples\n",
       "   11 predictor\n",
       "\n",
       "Pre-processing: scaled (11), centered (11) \n",
       "Resampling: Cross-Validated (5 fold, repeated 3 times) \n",
       "Summary of sample sizes: 26924, 26924, 26924, 26924, 26924, 26925, ... \n",
       "Resampling results across tuning parameters:\n",
       "\n",
       "  fraction  RMSE      Rsquared   MAE     \n",
       "  0.1       1.587939  0.2038671  1.280882\n",
       "  0.5       1.448721  0.2473496  1.160785\n",
       "  0.9       1.424408  0.2635382  1.133967\n",
       "\n",
       "RMSE was used to select the optimal model using the smallest value.\n",
       "The final value used for the model was fraction = 0.9."
      ]
     },
     "metadata": {},
     "output_type": "display_data"
    }
   ],
   "source": [
    "lasso_model"
   ]
  },
  {
   "cell_type": "code",
   "execution_count": 153,
   "metadata": {},
   "outputs": [
    {
     "data": {
      "text/plain": [
       "Ridge Regression \n",
       "\n",
       "33655 samples\n",
       "   11 predictor\n",
       "\n",
       "Pre-processing: scaled (11), centered (11) \n",
       "Resampling: Cross-Validated (5 fold, repeated 3 times) \n",
       "Summary of sample sizes: 26924, 26924, 26924, 26924, 26924, 26924, ... \n",
       "Resampling results across tuning parameters:\n",
       "\n",
       "  lambda  RMSE      Rsquared   MAE     \n",
       "  0e+00   1.424037  0.2637555  1.133489\n",
       "  1e-04   1.424037  0.2637556  1.133486\n",
       "  1e-01   1.425090  0.2627916  1.132254\n",
       "\n",
       "RMSE was used to select the optimal model using the smallest value.\n",
       "The final value used for the model was lambda = 1e-04."
      ]
     },
     "metadata": {},
     "output_type": "display_data"
    }
   ],
   "source": [
    "ridge_model <- train(length ~ .,\n",
    "               data = training,\n",
    "               trControl = ctrl,\n",
    "               preProcess = c('scale', 'center'),\n",
    "               method = \"ridge\")\n",
    "ridge_model"
   ]
  },
  {
   "cell_type": "markdown",
   "metadata": {},
   "source": [
    "Root mean squared error (RMSE, błąd średniokwadratowy) oblicza się ze wzoru $sqrt(mean((pred - obs)^2$\n",
    "\n",
    "\n",
    "$pred$ to przewidziane przez model wartości, a $obs$ to faktycznie zaobserwowane dane wyjściowe\n",
    "\n",
    "R-squared ($R^2$) to współczynnik mówiący o tym jak dobrze dane wyliczone za pomocą modelu pasują do danych prawdziwych (współczynnik korelacji między nimi do kwadratu), zatem chcemy minimalizować RMSE i maksymualizować R-squared."
   ]
  },
  {
   "cell_type": "code",
   "execution_count": 154,
   "metadata": {},
   "outputs": [
    {
     "data": {
      "text/html": [
       "<dl class=dl-horizontal>\n",
       "\t<dt>RMSE</dt>\n",
       "\t\t<dd>1.41612888343055</dd>\n",
       "\t<dt>Rsquared</dt>\n",
       "\t\t<dd>0.254605417002908</dd>\n",
       "\t<dt>MAE</dt>\n",
       "\t\t<dd>1.13485442920146</dd>\n",
       "</dl>\n"
      ],
      "text/latex": [
       "\\begin{description*}\n",
       "\\item[RMSE] 1.41612888343055\n",
       "\\item[Rsquared] 0.254605417002908\n",
       "\\item[MAE] 1.13485442920146\n",
       "\\end{description*}\n"
      ],
      "text/markdown": [
       "RMSE\n",
       ":   1.41612888343055Rsquared\n",
       ":   0.254605417002908MAE\n",
       ":   1.13485442920146\n",
       "\n"
      ],
      "text/plain": [
       "     RMSE  Rsquared       MAE \n",
       "1.4161289 0.2546054 1.1348544 "
      ]
     },
     "metadata": {},
     "output_type": "display_data"
    }
   ],
   "source": [
    "predictions <- predict(model, validating)\n",
    "postResample(pred = predictions, obs = validating$length)"
   ]
  },
  {
   "cell_type": "code",
   "execution_count": 155,
   "metadata": {},
   "outputs": [
    {
     "data": {
      "text/html": [
       "<dl class=dl-horizontal>\n",
       "\t<dt>RMSE</dt>\n",
       "\t\t<dd>1.41612888343055</dd>\n",
       "\t<dt>Rsquared</dt>\n",
       "\t\t<dd>0.254605417002907</dd>\n",
       "\t<dt>MAE</dt>\n",
       "\t\t<dd>1.13485442920145</dd>\n",
       "</dl>\n"
      ],
      "text/latex": [
       "\\begin{description*}\n",
       "\\item[RMSE] 1.41612888343055\n",
       "\\item[Rsquared] 0.254605417002907\n",
       "\\item[MAE] 1.13485442920145\n",
       "\\end{description*}\n"
      ],
      "text/markdown": [
       "RMSE\n",
       ":   1.41612888343055Rsquared\n",
       ":   0.254605417002907MAE\n",
       ":   1.13485442920145\n",
       "\n"
      ],
      "text/plain": [
       "     RMSE  Rsquared       MAE \n",
       "1.4161289 0.2546054 1.1348544 "
      ]
     },
     "metadata": {},
     "output_type": "display_data"
    }
   ],
   "source": [
    "predictions <- predict(preprocessed_model, validating)\n",
    "postResample(pred = predictions, obs = validating$length)"
   ]
  },
  {
   "cell_type": "code",
   "execution_count": 156,
   "metadata": {},
   "outputs": [
    {
     "data": {
      "text/html": [
       "<dl class=dl-horizontal>\n",
       "\t<dt>RMSE</dt>\n",
       "\t\t<dd>1.41642899394755</dd>\n",
       "\t<dt>Rsquared</dt>\n",
       "\t\t<dd>0.254147962866139</dd>\n",
       "\t<dt>MAE</dt>\n",
       "\t\t<dd>1.13510914520611</dd>\n",
       "</dl>\n"
      ],
      "text/latex": [
       "\\begin{description*}\n",
       "\\item[RMSE] 1.41642899394755\n",
       "\\item[Rsquared] 0.254147962866139\n",
       "\\item[MAE] 1.13510914520611\n",
       "\\end{description*}\n"
      ],
      "text/markdown": [
       "RMSE\n",
       ":   1.41642899394755Rsquared\n",
       ":   0.254147962866139MAE\n",
       ":   1.13510914520611\n",
       "\n"
      ],
      "text/plain": [
       "    RMSE Rsquared      MAE \n",
       "1.416429 0.254148 1.135109 "
      ]
     },
     "metadata": {},
     "output_type": "display_data"
    }
   ],
   "source": [
    "predictions <- predict(lasso_model, validating)\n",
    "postResample(pred = predictions, obs = validating$length)"
   ]
  },
  {
   "cell_type": "code",
   "execution_count": 157,
   "metadata": {},
   "outputs": [
    {
     "data": {
      "text/html": [
       "<dl class=dl-horizontal>\n",
       "\t<dt>RMSE</dt>\n",
       "\t\t<dd>1.41612939103711</dd>\n",
       "\t<dt>Rsquared</dt>\n",
       "\t\t<dd>0.254605073581269</dd>\n",
       "\t<dt>MAE</dt>\n",
       "\t\t<dd>1.13485213156802</dd>\n",
       "</dl>\n"
      ],
      "text/latex": [
       "\\begin{description*}\n",
       "\\item[RMSE] 1.41612939103711\n",
       "\\item[Rsquared] 0.254605073581269\n",
       "\\item[MAE] 1.13485213156802\n",
       "\\end{description*}\n"
      ],
      "text/markdown": [
       "RMSE\n",
       ":   1.41612939103711Rsquared\n",
       ":   0.254605073581269MAE\n",
       ":   1.13485213156802\n",
       "\n"
      ],
      "text/plain": [
       "     RMSE  Rsquared       MAE \n",
       "1.4161294 0.2546051 1.1348521 "
      ]
     },
     "metadata": {},
     "output_type": "display_data"
    }
   ],
   "source": [
    "predictions <- predict(ridge_model, validating)\n",
    "postResample(pred = predictions, obs = validating$length)"
   ]
  },
  {
   "cell_type": "markdown",
   "metadata": {},
   "source": [
    "Wszystkie modele działają praktycznie tak samo. Spróbujmy jeszcze wytrenować regresor na wszystkich kolumnach."
   ]
  },
  {
   "cell_type": "code",
   "execution_count": 158,
   "metadata": {},
   "outputs": [],
   "source": [
    "all_training_valid_all <- data[ inTrainingValidAll,]\n",
    "all_testing  <- data[-inTrainingValidAll,]\n",
    "all_training <- data[ inTraining,]\n",
    "all_validating  <- data[-inTraining,]"
   ]
  },
  {
   "cell_type": "code",
   "execution_count": 159,
   "metadata": {},
   "outputs": [
    {
     "data": {
      "text/plain": [
       "Ridge Regression \n",
       "\n",
       "33655 samples\n",
       "   15 predictor\n",
       "\n",
       "Pre-processing: scaled (15), centered (15) \n",
       "Resampling: Cross-Validated (5 fold, repeated 3 times) \n",
       "Summary of sample sizes: 26924, 26923, 26925, 26924, 26924, 26924, ... \n",
       "Resampling results across tuning parameters:\n",
       "\n",
       "  lambda  RMSE      Rsquared   MAE     \n",
       "  0e+00   1.339599  0.2831957  1.059560\n",
       "  1e-04   1.339599  0.2831958  1.059557\n",
       "  1e-01   1.356933  0.2663379  1.072745\n",
       "\n",
       "RMSE was used to select the optimal model using the smallest value.\n",
       "The final value used for the model was lambda = 1e-04."
      ]
     },
     "metadata": {},
     "output_type": "display_data"
    }
   ],
   "source": [
    "all_ridge_model <- train(length ~ .,\n",
    "               data = all_training,\n",
    "               trControl = ctrl,\n",
    "               preProcess = c('scale', 'center'),\n",
    "               method = \"ridge\")\n",
    "all_ridge_model"
   ]
  },
  {
   "cell_type": "code",
   "execution_count": 160,
   "metadata": {},
   "outputs": [
    {
     "data": {
      "text/html": [
       "<dl class=dl-horizontal>\n",
       "\t<dt>RMSE</dt>\n",
       "\t\t<dd>1.47154634709673</dd>\n",
       "\t<dt>Rsquared</dt>\n",
       "\t\t<dd>0.268014225907215</dd>\n",
       "\t<dt>MAE</dt>\n",
       "\t\t<dd>1.16562470360038</dd>\n",
       "</dl>\n"
      ],
      "text/latex": [
       "\\begin{description*}\n",
       "\\item[RMSE] 1.47154634709673\n",
       "\\item[Rsquared] 0.268014225907215\n",
       "\\item[MAE] 1.16562470360038\n",
       "\\end{description*}\n"
      ],
      "text/markdown": [
       "RMSE\n",
       ":   1.47154634709673Rsquared\n",
       ":   0.268014225907215MAE\n",
       ":   1.16562470360038\n",
       "\n"
      ],
      "text/plain": [
       "     RMSE  Rsquared       MAE \n",
       "1.4715463 0.2680142 1.1656247 "
      ]
     },
     "metadata": {},
     "output_type": "display_data"
    }
   ],
   "source": [
    "predictions <- predict(all_ridge_model, all_validating)\n",
    "postResample(pred = predictions, obs = all_validating$length)"
   ]
  },
  {
   "cell_type": "markdown",
   "metadata": {},
   "source": [
    "Biorąc pod uwagę RMSE można wysnuć wniosek, że redukcja atrybutów była dobrym posunięciem."
   ]
  },
  {
   "cell_type": "markdown",
   "metadata": {},
   "source": [
    "## 10. Analiza ważności atrybutów najlepszego znalezionego modelu regresji.\n",
    "Przyjrzyjmy się najważniejszym cechom według trenowanych modeli regresji."
   ]
  },
  {
   "cell_type": "code",
   "execution_count": 161,
   "metadata": {},
   "outputs": [
    {
     "data": {
      "image/png": "[encoded data removed]",
      "text/plain": [
       "plot without title"
      ]
     },
     "metadata": {},
     "output_type": "display_data"
    }
   ],
   "source": [
    "ggplot(varImp(preprocessed_model))"
   ]
  },
  {
   "cell_type": "code",
   "execution_count": 162,
   "metadata": {},
   "outputs": [
    {
     "data": {
      "image/png": "[encoded data removed]",
      "text/plain": [
       "plot without title"
      ]
     },
     "metadata": {},
     "output_type": "display_data"
    }
   ],
   "source": [
    "ggplot(varImp(lasso_model))"
   ]
  },
  {
   "cell_type": "code",
   "execution_count": 163,
   "metadata": {},
   "outputs": [
    {
     "data": {
      "image/png": "[encoded data removed]",
      "text/plain": [
       "plot without title"
      ]
     },
     "metadata": {},
     "output_type": "display_data"
    }
   ],
   "source": [
    "ggplot(varImp(ridge_model))"
   ]
  },
  {
   "cell_type": "markdown",
   "metadata": {},
   "source": [
    "W badanych modelach dużą ważność mają następujące cechy:\n",
    "- sst (temperatura przy powierzchni wody [°C])\n",
    "- fbar (natężenie połowów w regionie [ułamek pozostawionego narybku])\n",
    "- nao (nao: oscylacja północnoatlantycka [mb]) - w regresjach typu lasso i ridge\n",
    "- lcop1: dostępność planktonu [zagęszczenie widłonogów gat. 1]\n",
    "\n",
    "\n",
    "Stąd można wysnuć wniosek, że na wielkość śledzia mają największy wpływ powyższe czynniki."
   ]
  },
  {
   "cell_type": "markdown",
   "metadata": {},
   "source": [
    "Uznajmy, że model ridge za osteczny i dokonajmy predykcji na zbiorze testowym."
   ]
  },
  {
   "cell_type": "code",
   "execution_count": 164,
   "metadata": {},
   "outputs": [
    {
     "data": {
      "text/html": [
       "<dl class=dl-horizontal>\n",
       "\t<dt>RMSE</dt>\n",
       "\t\t<dd>1.42212885304851</dd>\n",
       "\t<dt>Rsquared</dt>\n",
       "\t\t<dd>0.249665403921797</dd>\n",
       "\t<dt>MAE</dt>\n",
       "\t\t<dd>1.13506273252789</dd>\n",
       "</dl>\n"
      ],
      "text/latex": [
       "\\begin{description*}\n",
       "\\item[RMSE] 1.42212885304851\n",
       "\\item[Rsquared] 0.249665403921797\n",
       "\\item[MAE] 1.13506273252789\n",
       "\\end{description*}\n"
      ],
      "text/markdown": [
       "RMSE\n",
       ":   1.42212885304851Rsquared\n",
       ":   0.249665403921797MAE\n",
       ":   1.13506273252789\n",
       "\n"
      ],
      "text/plain": [
       "     RMSE  Rsquared       MAE \n",
       "1.4221289 0.2496654 1.1350627 "
      ]
     },
     "metadata": {},
     "output_type": "display_data"
    }
   ],
   "source": [
    "test_predictions <- predict(ridge_model, testing)\n",
    "postResample(pred = test_predictions, obs = testing$length)"
   ]
  },
  {
   "cell_type": "code",
   "execution_count": 165,
   "metadata": {},
   "outputs": [
    {
     "data": {
      "image/png": "[encoded data removed]",
      "text/plain": [
       "plot without title"
      ]
     },
     "metadata": {},
     "output_type": "display_data"
    }
   ],
   "source": [
    "ggplot(testing, aes(all_testing$X)) +\n",
    " geom_line(aes(y = testing$length, colour = \"blue\")) +\n",
    " geom_line(aes(y = test_predictions, colour = \"green\")) +\n",
    " xlab(\"X\") +\n",
    " ylab(\"length\") + \n",
    " scale_color_discrete(name = \"Y series\", labels = c(\"ground truth\", \"predicted\")) +\n",
    " theme_grey()"
   ]
  },
  {
   "cell_type": "markdown",
   "metadata": {},
   "source": [
    "Model dobrze przewiduje długość śledzia w poszczególnych okresach, nie uwzględnia dużych wahań długości w krótkich odstępach czasu (generalizuje)."
   ]
  },
  {
   "cell_type": "markdown",
   "metadata": {},
   "source": [
    "Na koniec zwizualizujmy zależności między odkrytymi ważnymi cechami a zmienną y (length, długość śledzia)"
   ]
  },
  {
   "cell_type": "code",
   "execution_count": 166,
   "metadata": {},
   "outputs": [
    {
     "data": {
      "image/png": "[encoded data removed]",
      "text/plain": [
       "plot without title"
      ]
     },
     "metadata": {},
     "output_type": "display_data"
    }
   ],
   "source": [
    "by_sst <- data %>%\n",
    "  group_by(sst) %>%\n",
    "  summarise(sst_mean = mean(sst), length_mean = mean(length))\n",
    "ggplot(by_sst,  aes(x=sst_mean,y=length_mean)) +\n",
    "geom_point() + geom_smooth(method='lm')"
   ]
  },
  {
   "cell_type": "markdown",
   "metadata": {},
   "source": [
    "Im wyższa temperatura przy powierzchni, tym krótsze śledzie."
   ]
  },
  {
   "cell_type": "code",
   "execution_count": 167,
   "metadata": {},
   "outputs": [
    {
     "data": {
      "image/png": "[encoded data removed]",
      "text/plain": [
       "plot without title"
      ]
     },
     "metadata": {},
     "output_type": "display_data"
    }
   ],
   "source": [
    "by_fbar <- data %>%\n",
    "  group_by(fbar) %>%\n",
    "  summarise(fbar_mean = mean(fbar), length_mean = mean(length))\n",
    "ggplot(by_fbar,  aes(x=fbar_mean,y=length_mean)) +\n",
    "geom_point() + geom_smooth(method='lm')"
   ]
  },
  {
   "cell_type": "markdown",
   "metadata": {},
   "source": [
    "Im więcej pozostanie narybku, tym dłuższe śledzie."
   ]
  },
  {
   "cell_type": "code",
   "execution_count": 168,
   "metadata": {},
   "outputs": [
    {
     "data": {
      "image/png": "[encoded data removed]",
      "text/plain": [
       "plot without title"
      ]
     },
     "metadata": {},
     "output_type": "display_data"
    }
   ],
   "source": [
    "by_nao <- data %>%\n",
    "  group_by(nao) %>%\n",
    "  summarise(nao_mean = mean(nao), length_mean = mean(length))\n",
    "ggplot(by_nao,  aes(x=nao_mean,y=length_mean)) +\n",
    "geom_point() + geom_smooth(method='lm')"
   ]
  },
  {
   "cell_type": "markdown",
   "metadata": {},
   "source": [
    "Im większe nao (Oscylacja północnoatlantycka), tym krótsze śledzie."
   ]
  },
  {
   "cell_type": "code",
   "execution_count": 169,
   "metadata": {},
   "outputs": [
    {
     "data": {
      "image/png": "[encoded data removed]",
      "text/plain": [
       "plot without title"
      ]
     },
     "metadata": {},
     "output_type": "display_data"
    }
   ],
   "source": [
    "by_lcop1 <- data %>%\n",
    "  group_by(lcop1) %>%\n",
    "  summarise(lcop1_mean = mean(lcop1), length_mean = mean(length))\n",
    "ggplot(by_lcop1,  aes(x=lcop1_mean,y=length_mean)) +\n",
    "geom_point() + geom_smooth(method='lm')"
   ]
  },
  {
   "cell_type": "markdown",
   "metadata": {},
   "source": [
    "Im większa dostępność planktonu [zagęszczenie widłonogów gat. 1], tym dłuższe śledzie."
   ]
  },
  {
   "cell_type": "code",
   "execution_count": null,
   "metadata": {},
   "outputs": [],
   "source": []
  }
 ],
 "metadata": {
  "kernelspec": {
   "display_name": "R",
   "language": "R",
   "name": "ir"
  },
  "language_info": {
   "codemirror_mode": "r",
   "file_extension": ".r",
   "mimetype": "text/x-r-source",
   "name": "R",
   "pygments_lexer": "r",
   "version": "3.6.1"
  }
 },
 "nbformat": 4,
 "nbformat_minor": 2
}
